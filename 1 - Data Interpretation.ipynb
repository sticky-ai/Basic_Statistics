{
 "cells": [
  {
   "cell_type": "markdown",
   "id": "blind-coverage",
   "metadata": {},
   "source": [
    "# Data Interpretation\n",
    "* 본 노트북에서는 데이터셋 구축 및 초기 설정을 위한 각종 작업을 진행하고, 데이터셋을 구성하는 변수의 특징을 살펴보는 다양한 방법을 실습합니다.\n",
    "---"
   ]
  },
  {
   "cell_type": "markdown",
   "id": "related-poetry",
   "metadata": {},
   "source": [
    "# 1 - 데이터셋 구축 및 설정"
   ]
  },
  {
   "cell_type": "markdown",
   "id": "fuzzy-advertising",
   "metadata": {},
   "source": [
    "## 1.1 - 라이브러리 설치"
   ]
  },
  {
   "cell_type": "code",
   "execution_count": 20,
   "id": "broken-psychiatry",
   "metadata": {},
   "outputs": [
    {
     "name": "stdout",
     "output_type": "stream",
     "text": [
      "Collecting seaborn\n",
      "  Downloading seaborn-0.11.1-py3-none-any.whl (285 kB)\n",
      "\u001b[K     |████████████████████████████████| 285 kB 291 kB/s eta 0:00:01\n",
      "\u001b[?25hRequirement already satisfied: scipy>=1.0 in /Library/Frameworks/Python.framework/Versions/3.9/lib/python3.9/site-packages (from seaborn) (1.6.1)\n",
      "Requirement already satisfied: matplotlib>=2.2 in /Library/Frameworks/Python.framework/Versions/3.9/lib/python3.9/site-packages (from seaborn) (3.3.4)\n",
      "Requirement already satisfied: pandas>=0.23 in /Library/Frameworks/Python.framework/Versions/3.9/lib/python3.9/site-packages (from seaborn) (1.2.3)\n",
      "Requirement already satisfied: numpy>=1.15 in /Library/Frameworks/Python.framework/Versions/3.9/lib/python3.9/site-packages (from seaborn) (1.20.1)\n",
      "Requirement already satisfied: pyparsing!=2.0.4,!=2.1.2,!=2.1.6,>=2.0.3 in /Library/Frameworks/Python.framework/Versions/3.9/lib/python3.9/site-packages (from matplotlib>=2.2->seaborn) (2.4.7)\n",
      "Requirement already satisfied: python-dateutil>=2.1 in /Library/Frameworks/Python.framework/Versions/3.9/lib/python3.9/site-packages (from matplotlib>=2.2->seaborn) (2.8.1)\n",
      "Requirement already satisfied: cycler>=0.10 in /Library/Frameworks/Python.framework/Versions/3.9/lib/python3.9/site-packages (from matplotlib>=2.2->seaborn) (0.10.0)\n",
      "Requirement already satisfied: pillow>=6.2.0 in /Library/Frameworks/Python.framework/Versions/3.9/lib/python3.9/site-packages (from matplotlib>=2.2->seaborn) (8.1.1)\n",
      "Requirement already satisfied: kiwisolver>=1.0.1 in /Library/Frameworks/Python.framework/Versions/3.9/lib/python3.9/site-packages (from matplotlib>=2.2->seaborn) (1.3.1)\n",
      "Requirement already satisfied: pytz>=2017.3 in /Library/Frameworks/Python.framework/Versions/3.9/lib/python3.9/site-packages (from pandas>=0.23->seaborn) (2021.1)\n",
      "Requirement already satisfied: six>=1.5 in /Library/Frameworks/Python.framework/Versions/3.9/lib/python3.9/site-packages (from python-dateutil>=2.1->matplotlib>=2.2->seaborn) (1.15.0)\n",
      "Installing collected packages: seaborn\n",
      "Successfully installed seaborn-0.11.1\n",
      "\u001b[33mWARNING: You are using pip version 20.2.3; however, version 21.0.1 is available.\n",
      "You should consider upgrading via the '/Library/Frameworks/Python.framework/Versions/3.9/bin/python3.9 -m pip install --upgrade pip' command.\u001b[0m\n"
     ]
    }
   ],
   "source": [
    "# !pip3 install pandas\n",
    "# !pip3 install numpy\n",
    "# !pip3 install sklearn\n",
    "# !pip3 install matplotlib\n",
    "# !pip3 install seaborn"
   ]
  },
  {
   "cell_type": "markdown",
   "id": "dried-there",
   "metadata": {},
   "source": [
    "## 1.2 - 라이브러리 불러오기"
   ]
  },
  {
   "cell_type": "code",
   "execution_count": 21,
   "id": "optional-steering",
   "metadata": {},
   "outputs": [],
   "source": [
    "import pandas as pd\n",
    "import numpy as np\n",
    "import matplotlib.pyplot as plt\n",
    "import seaborn as sns\n",
    "from sklearn.datasets import load_iris"
   ]
  },
  {
   "cell_type": "markdown",
   "id": "filled-smooth",
   "metadata": {},
   "source": [
    "---"
   ]
  },
  {
   "cell_type": "markdown",
   "id": "weekly-dakota",
   "metadata": {},
   "source": [
    "## 1.3 - 데이터셋 불러오기\n",
    "* `scikit-learn`에서 제공하는 데이터셋 패키지를 활용하여 붓꽃 데이터셋을 불러옵니다."
   ]
  },
  {
   "cell_type": "code",
   "execution_count": 3,
   "id": "understood-russell",
   "metadata": {},
   "outputs": [
    {
     "name": "stdout",
     "output_type": "stream",
     "text": [
      "<class 'sklearn.utils.Bunch'>\n"
     ]
    },
    {
     "data": {
      "text/plain": [
       "{'data': array([[5.1, 3.5, 1.4, 0.2],\n",
       "        [4.9, 3. , 1.4, 0.2],\n",
       "        [4.7, 3.2, 1.3, 0.2],\n",
       "        [4.6, 3.1, 1.5, 0.2],\n",
       "        [5. , 3.6, 1.4, 0.2],\n",
       "        [5.4, 3.9, 1.7, 0.4],\n",
       "        [4.6, 3.4, 1.4, 0.3],\n",
       "        [5. , 3.4, 1.5, 0.2],\n",
       "        [4.4, 2.9, 1.4, 0.2],\n",
       "        [4.9, 3.1, 1.5, 0.1],\n",
       "        [5.4, 3.7, 1.5, 0.2],\n",
       "        [4.8, 3.4, 1.6, 0.2],\n",
       "        [4.8, 3. , 1.4, 0.1],\n",
       "        [4.3, 3. , 1.1, 0.1],\n",
       "        [5.8, 4. , 1.2, 0.2],\n",
       "        [5.7, 4.4, 1.5, 0.4],\n",
       "        [5.4, 3.9, 1.3, 0.4],\n",
       "        [5.1, 3.5, 1.4, 0.3],\n",
       "        [5.7, 3.8, 1.7, 0.3],\n",
       "        [5.1, 3.8, 1.5, 0.3],\n",
       "        [5.4, 3.4, 1.7, 0.2],\n",
       "        [5.1, 3.7, 1.5, 0.4],\n",
       "        [4.6, 3.6, 1. , 0.2],\n",
       "        [5.1, 3.3, 1.7, 0.5],\n",
       "        [4.8, 3.4, 1.9, 0.2],\n",
       "        [5. , 3. , 1.6, 0.2],\n",
       "        [5. , 3.4, 1.6, 0.4],\n",
       "        [5.2, 3.5, 1.5, 0.2],\n",
       "        [5.2, 3.4, 1.4, 0.2],\n",
       "        [4.7, 3.2, 1.6, 0.2],\n",
       "        [4.8, 3.1, 1.6, 0.2],\n",
       "        [5.4, 3.4, 1.5, 0.4],\n",
       "        [5.2, 4.1, 1.5, 0.1],\n",
       "        [5.5, 4.2, 1.4, 0.2],\n",
       "        [4.9, 3.1, 1.5, 0.2],\n",
       "        [5. , 3.2, 1.2, 0.2],\n",
       "        [5.5, 3.5, 1.3, 0.2],\n",
       "        [4.9, 3.6, 1.4, 0.1],\n",
       "        [4.4, 3. , 1.3, 0.2],\n",
       "        [5.1, 3.4, 1.5, 0.2],\n",
       "        [5. , 3.5, 1.3, 0.3],\n",
       "        [4.5, 2.3, 1.3, 0.3],\n",
       "        [4.4, 3.2, 1.3, 0.2],\n",
       "        [5. , 3.5, 1.6, 0.6],\n",
       "        [5.1, 3.8, 1.9, 0.4],\n",
       "        [4.8, 3. , 1.4, 0.3],\n",
       "        [5.1, 3.8, 1.6, 0.2],\n",
       "        [4.6, 3.2, 1.4, 0.2],\n",
       "        [5.3, 3.7, 1.5, 0.2],\n",
       "        [5. , 3.3, 1.4, 0.2],\n",
       "        [7. , 3.2, 4.7, 1.4],\n",
       "        [6.4, 3.2, 4.5, 1.5],\n",
       "        [6.9, 3.1, 4.9, 1.5],\n",
       "        [5.5, 2.3, 4. , 1.3],\n",
       "        [6.5, 2.8, 4.6, 1.5],\n",
       "        [5.7, 2.8, 4.5, 1.3],\n",
       "        [6.3, 3.3, 4.7, 1.6],\n",
       "        [4.9, 2.4, 3.3, 1. ],\n",
       "        [6.6, 2.9, 4.6, 1.3],\n",
       "        [5.2, 2.7, 3.9, 1.4],\n",
       "        [5. , 2. , 3.5, 1. ],\n",
       "        [5.9, 3. , 4.2, 1.5],\n",
       "        [6. , 2.2, 4. , 1. ],\n",
       "        [6.1, 2.9, 4.7, 1.4],\n",
       "        [5.6, 2.9, 3.6, 1.3],\n",
       "        [6.7, 3.1, 4.4, 1.4],\n",
       "        [5.6, 3. , 4.5, 1.5],\n",
       "        [5.8, 2.7, 4.1, 1. ],\n",
       "        [6.2, 2.2, 4.5, 1.5],\n",
       "        [5.6, 2.5, 3.9, 1.1],\n",
       "        [5.9, 3.2, 4.8, 1.8],\n",
       "        [6.1, 2.8, 4. , 1.3],\n",
       "        [6.3, 2.5, 4.9, 1.5],\n",
       "        [6.1, 2.8, 4.7, 1.2],\n",
       "        [6.4, 2.9, 4.3, 1.3],\n",
       "        [6.6, 3. , 4.4, 1.4],\n",
       "        [6.8, 2.8, 4.8, 1.4],\n",
       "        [6.7, 3. , 5. , 1.7],\n",
       "        [6. , 2.9, 4.5, 1.5],\n",
       "        [5.7, 2.6, 3.5, 1. ],\n",
       "        [5.5, 2.4, 3.8, 1.1],\n",
       "        [5.5, 2.4, 3.7, 1. ],\n",
       "        [5.8, 2.7, 3.9, 1.2],\n",
       "        [6. , 2.7, 5.1, 1.6],\n",
       "        [5.4, 3. , 4.5, 1.5],\n",
       "        [6. , 3.4, 4.5, 1.6],\n",
       "        [6.7, 3.1, 4.7, 1.5],\n",
       "        [6.3, 2.3, 4.4, 1.3],\n",
       "        [5.6, 3. , 4.1, 1.3],\n",
       "        [5.5, 2.5, 4. , 1.3],\n",
       "        [5.5, 2.6, 4.4, 1.2],\n",
       "        [6.1, 3. , 4.6, 1.4],\n",
       "        [5.8, 2.6, 4. , 1.2],\n",
       "        [5. , 2.3, 3.3, 1. ],\n",
       "        [5.6, 2.7, 4.2, 1.3],\n",
       "        [5.7, 3. , 4.2, 1.2],\n",
       "        [5.7, 2.9, 4.2, 1.3],\n",
       "        [6.2, 2.9, 4.3, 1.3],\n",
       "        [5.1, 2.5, 3. , 1.1],\n",
       "        [5.7, 2.8, 4.1, 1.3],\n",
       "        [6.3, 3.3, 6. , 2.5],\n",
       "        [5.8, 2.7, 5.1, 1.9],\n",
       "        [7.1, 3. , 5.9, 2.1],\n",
       "        [6.3, 2.9, 5.6, 1.8],\n",
       "        [6.5, 3. , 5.8, 2.2],\n",
       "        [7.6, 3. , 6.6, 2.1],\n",
       "        [4.9, 2.5, 4.5, 1.7],\n",
       "        [7.3, 2.9, 6.3, 1.8],\n",
       "        [6.7, 2.5, 5.8, 1.8],\n",
       "        [7.2, 3.6, 6.1, 2.5],\n",
       "        [6.5, 3.2, 5.1, 2. ],\n",
       "        [6.4, 2.7, 5.3, 1.9],\n",
       "        [6.8, 3. , 5.5, 2.1],\n",
       "        [5.7, 2.5, 5. , 2. ],\n",
       "        [5.8, 2.8, 5.1, 2.4],\n",
       "        [6.4, 3.2, 5.3, 2.3],\n",
       "        [6.5, 3. , 5.5, 1.8],\n",
       "        [7.7, 3.8, 6.7, 2.2],\n",
       "        [7.7, 2.6, 6.9, 2.3],\n",
       "        [6. , 2.2, 5. , 1.5],\n",
       "        [6.9, 3.2, 5.7, 2.3],\n",
       "        [5.6, 2.8, 4.9, 2. ],\n",
       "        [7.7, 2.8, 6.7, 2. ],\n",
       "        [6.3, 2.7, 4.9, 1.8],\n",
       "        [6.7, 3.3, 5.7, 2.1],\n",
       "        [7.2, 3.2, 6. , 1.8],\n",
       "        [6.2, 2.8, 4.8, 1.8],\n",
       "        [6.1, 3. , 4.9, 1.8],\n",
       "        [6.4, 2.8, 5.6, 2.1],\n",
       "        [7.2, 3. , 5.8, 1.6],\n",
       "        [7.4, 2.8, 6.1, 1.9],\n",
       "        [7.9, 3.8, 6.4, 2. ],\n",
       "        [6.4, 2.8, 5.6, 2.2],\n",
       "        [6.3, 2.8, 5.1, 1.5],\n",
       "        [6.1, 2.6, 5.6, 1.4],\n",
       "        [7.7, 3. , 6.1, 2.3],\n",
       "        [6.3, 3.4, 5.6, 2.4],\n",
       "        [6.4, 3.1, 5.5, 1.8],\n",
       "        [6. , 3. , 4.8, 1.8],\n",
       "        [6.9, 3.1, 5.4, 2.1],\n",
       "        [6.7, 3.1, 5.6, 2.4],\n",
       "        [6.9, 3.1, 5.1, 2.3],\n",
       "        [5.8, 2.7, 5.1, 1.9],\n",
       "        [6.8, 3.2, 5.9, 2.3],\n",
       "        [6.7, 3.3, 5.7, 2.5],\n",
       "        [6.7, 3. , 5.2, 2.3],\n",
       "        [6.3, 2.5, 5. , 1.9],\n",
       "        [6.5, 3. , 5.2, 2. ],\n",
       "        [6.2, 3.4, 5.4, 2.3],\n",
       "        [5.9, 3. , 5.1, 1.8]]),\n",
       " 'target': array([0, 0, 0, 0, 0, 0, 0, 0, 0, 0, 0, 0, 0, 0, 0, 0, 0, 0, 0, 0, 0, 0,\n",
       "        0, 0, 0, 0, 0, 0, 0, 0, 0, 0, 0, 0, 0, 0, 0, 0, 0, 0, 0, 0, 0, 0,\n",
       "        0, 0, 0, 0, 0, 0, 1, 1, 1, 1, 1, 1, 1, 1, 1, 1, 1, 1, 1, 1, 1, 1,\n",
       "        1, 1, 1, 1, 1, 1, 1, 1, 1, 1, 1, 1, 1, 1, 1, 1, 1, 1, 1, 1, 1, 1,\n",
       "        1, 1, 1, 1, 1, 1, 1, 1, 1, 1, 1, 1, 2, 2, 2, 2, 2, 2, 2, 2, 2, 2,\n",
       "        2, 2, 2, 2, 2, 2, 2, 2, 2, 2, 2, 2, 2, 2, 2, 2, 2, 2, 2, 2, 2, 2,\n",
       "        2, 2, 2, 2, 2, 2, 2, 2, 2, 2, 2, 2, 2, 2, 2, 2, 2, 2]),\n",
       " 'frame': None,\n",
       " 'target_names': array(['setosa', 'versicolor', 'virginica'], dtype='<U10'),\n",
       " 'DESCR': '.. _iris_dataset:\\n\\nIris plants dataset\\n--------------------\\n\\n**Data Set Characteristics:**\\n\\n    :Number of Instances: 150 (50 in each of three classes)\\n    :Number of Attributes: 4 numeric, predictive attributes and the class\\n    :Attribute Information:\\n        - sepal length in cm\\n        - sepal width in cm\\n        - petal length in cm\\n        - petal width in cm\\n        - class:\\n                - Iris-Setosa\\n                - Iris-Versicolour\\n                - Iris-Virginica\\n                \\n    :Summary Statistics:\\n\\n    ============== ==== ==== ======= ===== ====================\\n                    Min  Max   Mean    SD   Class Correlation\\n    ============== ==== ==== ======= ===== ====================\\n    sepal length:   4.3  7.9   5.84   0.83    0.7826\\n    sepal width:    2.0  4.4   3.05   0.43   -0.4194\\n    petal length:   1.0  6.9   3.76   1.76    0.9490  (high!)\\n    petal width:    0.1  2.5   1.20   0.76    0.9565  (high!)\\n    ============== ==== ==== ======= ===== ====================\\n\\n    :Missing Attribute Values: None\\n    :Class Distribution: 33.3% for each of 3 classes.\\n    :Creator: R.A. Fisher\\n    :Donor: Michael Marshall (MARSHALL%PLU@io.arc.nasa.gov)\\n    :Date: July, 1988\\n\\nThe famous Iris database, first used by Sir R.A. Fisher. The dataset is taken\\nfrom Fisher\\'s paper. Note that it\\'s the same as in R, but not as in the UCI\\nMachine Learning Repository, which has two wrong data points.\\n\\nThis is perhaps the best known database to be found in the\\npattern recognition literature.  Fisher\\'s paper is a classic in the field and\\nis referenced frequently to this day.  (See Duda & Hart, for example.)  The\\ndata set contains 3 classes of 50 instances each, where each class refers to a\\ntype of iris plant.  One class is linearly separable from the other 2; the\\nlatter are NOT linearly separable from each other.\\n\\n.. topic:: References\\n\\n   - Fisher, R.A. \"The use of multiple measurements in taxonomic problems\"\\n     Annual Eugenics, 7, Part II, 179-188 (1936); also in \"Contributions to\\n     Mathematical Statistics\" (John Wiley, NY, 1950).\\n   - Duda, R.O., & Hart, P.E. (1973) Pattern Classification and Scene Analysis.\\n     (Q327.D83) John Wiley & Sons.  ISBN 0-471-22361-1.  See page 218.\\n   - Dasarathy, B.V. (1980) \"Nosing Around the Neighborhood: A New System\\n     Structure and Classification Rule for Recognition in Partially Exposed\\n     Environments\".  IEEE Transactions on Pattern Analysis and Machine\\n     Intelligence, Vol. PAMI-2, No. 1, 67-71.\\n   - Gates, G.W. (1972) \"The Reduced Nearest Neighbor Rule\".  IEEE Transactions\\n     on Information Theory, May 1972, 431-433.\\n   - See also: 1988 MLC Proceedings, 54-64.  Cheeseman et al\"s AUTOCLASS II\\n     conceptual clustering system finds 3 classes in the data.\\n   - Many, many more ...',\n",
       " 'feature_names': ['sepal length (cm)',\n",
       "  'sepal width (cm)',\n",
       "  'petal length (cm)',\n",
       "  'petal width (cm)'],\n",
       " 'filename': '/Library/Frameworks/Python.framework/Versions/3.9/lib/python3.9/site-packages/sklearn/datasets/data/iris.csv'}"
      ]
     },
     "execution_count": 3,
     "metadata": {},
     "output_type": "execute_result"
    }
   ],
   "source": [
    "data_iris = load_iris()\n",
    "print(type(data_iris))\n",
    "data_iris"
   ]
  },
  {
   "cell_type": "markdown",
   "id": "complicated-retirement",
   "metadata": {},
   "source": [
    "## 1.4 - 데이터셋 설정\n",
    "* `scikit-learn`에서 제공하는 기본 붓꽃 데이터셋은 핸들링하기 어려운 부분이 있기 때문에, `pandas`에서 지원하는 `DataFrame`형태로 변경합니다.\n",
    "* `iris` 데이터셋은 학습 데이터(X)에 해당하는 'data'와 클래스에 해당하는 'target'으로 구분되며, 이를 병합하여 하나의 데이터셋을 구축합니다."
   ]
  },
  {
   "cell_type": "code",
   "execution_count": 4,
   "id": "nasty-climate",
   "metadata": {},
   "outputs": [
    {
     "data": {
      "text/html": [
       "<div>\n",
       "<style scoped>\n",
       "    .dataframe tbody tr th:only-of-type {\n",
       "        vertical-align: middle;\n",
       "    }\n",
       "\n",
       "    .dataframe tbody tr th {\n",
       "        vertical-align: top;\n",
       "    }\n",
       "\n",
       "    .dataframe thead th {\n",
       "        text-align: right;\n",
       "    }\n",
       "</style>\n",
       "<table border=\"1\" class=\"dataframe\">\n",
       "  <thead>\n",
       "    <tr style=\"text-align: right;\">\n",
       "      <th></th>\n",
       "      <th>sepal length (cm)</th>\n",
       "      <th>sepal width (cm)</th>\n",
       "      <th>petal length (cm)</th>\n",
       "      <th>petal width (cm)</th>\n",
       "      <th>class</th>\n",
       "    </tr>\n",
       "  </thead>\n",
       "  <tbody>\n",
       "    <tr>\n",
       "      <th>0</th>\n",
       "      <td>5.1</td>\n",
       "      <td>3.5</td>\n",
       "      <td>1.4</td>\n",
       "      <td>0.2</td>\n",
       "      <td>0.0</td>\n",
       "    </tr>\n",
       "    <tr>\n",
       "      <th>1</th>\n",
       "      <td>4.9</td>\n",
       "      <td>3.0</td>\n",
       "      <td>1.4</td>\n",
       "      <td>0.2</td>\n",
       "      <td>0.0</td>\n",
       "    </tr>\n",
       "    <tr>\n",
       "      <th>2</th>\n",
       "      <td>4.7</td>\n",
       "      <td>3.2</td>\n",
       "      <td>1.3</td>\n",
       "      <td>0.2</td>\n",
       "      <td>0.0</td>\n",
       "    </tr>\n",
       "    <tr>\n",
       "      <th>3</th>\n",
       "      <td>4.6</td>\n",
       "      <td>3.1</td>\n",
       "      <td>1.5</td>\n",
       "      <td>0.2</td>\n",
       "      <td>0.0</td>\n",
       "    </tr>\n",
       "    <tr>\n",
       "      <th>4</th>\n",
       "      <td>5.0</td>\n",
       "      <td>3.6</td>\n",
       "      <td>1.4</td>\n",
       "      <td>0.2</td>\n",
       "      <td>0.0</td>\n",
       "    </tr>\n",
       "    <tr>\n",
       "      <th>...</th>\n",
       "      <td>...</td>\n",
       "      <td>...</td>\n",
       "      <td>...</td>\n",
       "      <td>...</td>\n",
       "      <td>...</td>\n",
       "    </tr>\n",
       "    <tr>\n",
       "      <th>145</th>\n",
       "      <td>6.7</td>\n",
       "      <td>3.0</td>\n",
       "      <td>5.2</td>\n",
       "      <td>2.3</td>\n",
       "      <td>2.0</td>\n",
       "    </tr>\n",
       "    <tr>\n",
       "      <th>146</th>\n",
       "      <td>6.3</td>\n",
       "      <td>2.5</td>\n",
       "      <td>5.0</td>\n",
       "      <td>1.9</td>\n",
       "      <td>2.0</td>\n",
       "    </tr>\n",
       "    <tr>\n",
       "      <th>147</th>\n",
       "      <td>6.5</td>\n",
       "      <td>3.0</td>\n",
       "      <td>5.2</td>\n",
       "      <td>2.0</td>\n",
       "      <td>2.0</td>\n",
       "    </tr>\n",
       "    <tr>\n",
       "      <th>148</th>\n",
       "      <td>6.2</td>\n",
       "      <td>3.4</td>\n",
       "      <td>5.4</td>\n",
       "      <td>2.3</td>\n",
       "      <td>2.0</td>\n",
       "    </tr>\n",
       "    <tr>\n",
       "      <th>149</th>\n",
       "      <td>5.9</td>\n",
       "      <td>3.0</td>\n",
       "      <td>5.1</td>\n",
       "      <td>1.8</td>\n",
       "      <td>2.0</td>\n",
       "    </tr>\n",
       "  </tbody>\n",
       "</table>\n",
       "<p>150 rows × 5 columns</p>\n",
       "</div>"
      ],
      "text/plain": [
       "     sepal length (cm)  sepal width (cm)  petal length (cm)  petal width (cm)  \\\n",
       "0                  5.1               3.5                1.4               0.2   \n",
       "1                  4.9               3.0                1.4               0.2   \n",
       "2                  4.7               3.2                1.3               0.2   \n",
       "3                  4.6               3.1                1.5               0.2   \n",
       "4                  5.0               3.6                1.4               0.2   \n",
       "..                 ...               ...                ...               ...   \n",
       "145                6.7               3.0                5.2               2.3   \n",
       "146                6.3               2.5                5.0               1.9   \n",
       "147                6.5               3.0                5.2               2.0   \n",
       "148                6.2               3.4                5.4               2.3   \n",
       "149                5.9               3.0                5.1               1.8   \n",
       "\n",
       "    class  \n",
       "0     0.0  \n",
       "1     0.0  \n",
       "2     0.0  \n",
       "3     0.0  \n",
       "4     0.0  \n",
       "..    ...  \n",
       "145   2.0  \n",
       "146   2.0  \n",
       "147   2.0  \n",
       "148   2.0  \n",
       "149   2.0  \n",
       "\n",
       "[150 rows x 5 columns]"
      ]
     },
     "execution_count": 4,
     "metadata": {},
     "output_type": "execute_result"
    }
   ],
   "source": [
    "data = pd.DataFrame(data=np.c_[data_iris['data'], data_iris['target']], \n",
    "                    columns=data_iris['feature_names'] + ['class'])\n",
    "data['class'] = data['class'].astype('category')\n",
    "data"
   ]
  },
  {
   "cell_type": "markdown",
   "id": "mediterranean-debut",
   "metadata": {},
   "source": [
    "## 1.5 - 데이터셋 요약"
   ]
  },
  {
   "cell_type": "code",
   "execution_count": 5,
   "id": "forward-harassment",
   "metadata": {},
   "outputs": [
    {
     "name": "stdout",
     "output_type": "stream",
     "text": [
      "# 변수의 개수 : 5, 데이터 개수 : 150\n",
      "\n",
      "# 데이터셋 특성 정보\n",
      " - 연속형 변수 : ['sepal length (cm)', 'sepal width (cm)', 'petal length (cm)', 'petal width (cm)'] \n",
      " - 범주형 변수 : ['class']\n",
      "\n",
      "# 클래스 정보 \n",
      "0.0    50\n",
      "1.0    50\n",
      "2.0    50\n",
      "Name: class, dtype: int64\n"
     ]
    }
   ],
   "source": [
    "print('# 변수의 개수 : {}, 데이터 개수 : {}'.format(data.shape[1], data.shape[0]))\n",
    "\n",
    "numerical = [f for f, t in zip(data.columns, data.dtypes) if t == 'float64']\n",
    "categorical = [f for f, t in zip(data.columns, data.dtypes) if t != 'float64']\n",
    "num_class = data['class'].value_counts()\n",
    "\n",
    "print('\\n# 데이터셋 특성 정보')\n",
    "print(' - 연속형 변수 : {} \\n - 범주형 변수 : {}'.format(numerical, categorical))\n",
    "\n",
    "print('\\n# 클래스 정보 \\n{}'.format(num_class))"
   ]
  },
  {
   "cell_type": "markdown",
   "id": "incorporated-marketing",
   "metadata": {},
   "source": [
    "---"
   ]
  },
  {
   "cell_type": "markdown",
   "id": "dynamic-syria",
   "metadata": {},
   "source": [
    "# 2 - 1차원 데이터 살펴보기\n",
    "* 1차원 데이터의 특징을 살펴보기 위해 평균(Mean), 중앙값(Median), 4분위 범위 등을 알아봅니다."
   ]
  },
  {
   "cell_type": "markdown",
   "id": "danish-visibility",
   "metadata": {},
   "source": [
    "## 2.1 - 평균(Mean) / 중앙값(Median)\n",
    "* `평균`은 데이터의 특징을 파악하기 위한 대표적인 방법으로 $E(X)$ 또는 $\\bar{X}$와 같이 표현합니다. 데이터 전체의 합을 데이터의 개수로 나누어 산출합니다.\n",
    "$$\\bar{X} = \\frac{1}{N}\\sum^{N}_{i=1}x_i$$\n",
    "\n",
    "* `중앙값`은 데이터를 크기 순서로 정렬했을 때, 중앙에 위치하는 값으로 $\\tilde{X}$ 혹은 $\\hat{X}$와 같이 표현합니다. 중앙값은 데이터의 개수에 따라 산출 방법이 달라집니다.\n",
    "$$\n",
    "홀수 \\tilde{X} = x_{(\\frac{N+1}{2})} \\\\\n",
    "짝수 \\tilde{X} = \\frac{x_{(\\frac{N}{2})} + x_{(\\frac{N}{2} + 1)}}{2}\n",
    "$$"
   ]
  },
  {
   "cell_type": "code",
   "execution_count": 6,
   "id": "chubby-worth",
   "metadata": {},
   "outputs": [
    {
     "name": "stdout",
     "output_type": "stream",
     "text": [
      "# 변수 : sepal length (cm) \t 평균 : 5.843333333333334 \t 중앙값 : 5.8\n",
      "# 변수 : sepal width (cm) \t 평균 : 3.0573333333333337 \t 중앙값 : 3.0\n",
      "# 변수 : petal length (cm) \t 평균 : 3.7580000000000005 \t 중앙값 : 4.35\n",
      "# 변수 : petal width (cm) \t 평균 : 1.1993333333333336 \t 중앙값 : 1.3\n"
     ]
    }
   ],
   "source": [
    "for c in numerical:\n",
    "    mean, median = np.mean(data[c]), np.median(data[c])\n",
    "    print('# 변수 : {} \\t 평균 : {} \\t 중앙값 : {}'.format(c, mean, median))"
   ]
  },
  {
   "cell_type": "markdown",
   "id": "greater-universe",
   "metadata": {},
   "source": [
    "# 2.2 - 분산(Variance) / 표준편차(Standard Deviation)\n",
    "* `분산`은 데이터가 평균으로부터 떨어져 있는 정도를 나타내는 지표이며, $V(X)$ 또는 $\\sigma^2$ 처럼 표현하기도 합니다. 데이터셋 $X$를 구성하는 변수 $x_i$에 평균 $\\bar{x}$를 뺀 값을 모두 더하여 산출합니다.\n",
    "$$\\sigma^2 = \\frac{1}{N}\\sum^{N}_{i=1}{(x_i - \\bar{x})}^2$$\n",
    "\n",
    "\n",
    "* `표준편차`는 데이터가 평균을 중심으로 얼마나 퍼져있는지를 나타내는 지표이며, $\\sigma$와 같이 표현합니다. 분산과 유사하며 분산에 루트값을 씌운것이 특징입니다.\n",
    "$$\\sigma = \\sqrt{\\frac{1}{N}\\sum^{N}_{i=1}{(x_i - \\bar{x})}^2}$$"
   ]
  },
  {
   "cell_type": "code",
   "execution_count": 7,
   "id": "extreme-studio",
   "metadata": {},
   "outputs": [
    {
     "name": "stdout",
     "output_type": "stream",
     "text": [
      "# 변수 : sepal length (cm) \t 분산 : 0.6811222222222223 \t 표준편차 : 0.8253012917851409\n",
      "# 변수 : sepal width (cm) \t 분산 : 0.1887128888888889 \t 표준편차 : 0.4344109677354946\n",
      "# 변수 : petal length (cm) \t 분산 : 3.0955026666666665 \t 표준편차 : 1.759404065775303\n",
      "# 변수 : petal width (cm) \t 분산 : 0.5771328888888888 \t 표준편차 : 0.7596926279021594\n"
     ]
    }
   ],
   "source": [
    "for c in numerical:\n",
    "    var, std = np.var(data[c]), np.std(data[c])\n",
    "    print('# 변수 : {} \\t 분산 : {} \\t 표준편차 : {}'.format(c, var, std))"
   ]
  },
  {
   "cell_type": "markdown",
   "id": "worse-harvey",
   "metadata": {},
   "source": [
    "## 2.3 - 사분위 범위(Interquartile Range)\n",
    "* 사분위 범위는 데이터의 분포를 4개의 구간으로 나누어 살펴보는 방법이다.\n",
    "* 사분위 범위 중 `Q1`은 하위 25%, `Q3`는 하위 75%에 위치하는 값을 나타내며, `IQR`은 Q3에서 Q1을 뺀 값으로 정의한다"
   ]
  },
  {
   "cell_type": "code",
   "execution_count": 8,
   "id": "expensive-treasurer",
   "metadata": {},
   "outputs": [
    {
     "name": "stdout",
     "output_type": "stream",
     "text": [
      "# 변수 : sepal length (cm) \t Q1 : 5.1 \t Q2 : 6.4 \t IQR : 1.3000000000000007\n",
      "# 변수 : sepal width (cm) \t Q1 : 2.8 \t Q2 : 3.3 \t IQR : 0.5\n",
      "# 변수 : petal length (cm) \t Q1 : 1.6 \t Q2 : 5.1 \t IQR : 3.4999999999999996\n",
      "# 변수 : petal width (cm) \t Q1 : 0.3 \t Q2 : 1.8 \t IQR : 1.5\n"
     ]
    }
   ],
   "source": [
    "for c in numerical:\n",
    "    Q1, Q3 = np.percentile(data[c], 25), np.percentile(data[c], 75)\n",
    "    IQR = Q3 - Q1\n",
    "    print('# 변수 : {} \\t Q1 : {} \\t Q2 : {} \\t IQR : {}'.format(c, Q1, Q3, IQR))"
   ]
  },
  {
   "cell_type": "markdown",
   "id": "turkish-alignment",
   "metadata": {},
   "source": [
    "## 2.4 - 1차원 데이터 시각화"
   ]
  },
  {
   "cell_type": "code",
   "execution_count": 9,
   "id": "toxic-desert",
   "metadata": {},
   "outputs": [
    {
     "data": {
      "image/png": "[encoded data removed]",
      "text/plain": [
       "<Figure size 720x216 with 1 Axes>"
      ]
     },
     "metadata": {
      "needs_background": "light"
     },
     "output_type": "display_data"
    },
    {
     "data": {
      "image/png": "[encoded data removed]",
      "text/plain": [
       "<Figure size 720x216 with 1 Axes>"
      ]
     },
     "metadata": {
      "needs_background": "light"
     },
     "output_type": "display_data"
    },
    {
     "data": {
      "image/png": "[encoded data removed]",
      "text/plain": [
       "<Figure size 720x216 with 1 Axes>"
      ]
     },
     "metadata": {
      "needs_background": "light"
     },
     "output_type": "display_data"
    },
    {
     "data": {
      "image/png": "[encoded data removed]",
      "text/plain": [
       "<Figure size 720x216 with 1 Axes>"
      ]
     },
     "metadata": {
      "needs_background": "light"
     },
     "output_type": "display_data"
    }
   ],
   "source": [
    "for c in numerical:\n",
    "    fig = plt.figure(figsize=(10, 3))\n",
    "    ax = fig.add_subplot(111)\n",
    "    freq, _, _ = ax.hist(data[c], bins=7)\n",
    "    ax.set_xlabel('length')\n",
    "    ax.set_ylabel('number')\n",
    "    plt.show()"
   ]
  },
  {
   "cell_type": "code",
   "execution_count": 23,
   "id": "descending-cotton",
   "metadata": {},
   "outputs": [
    {
     "data": {
      "text/plain": [
       "<AxesSubplot:xlabel='class', ylabel='count'>"
      ]
     },
     "execution_count": 23,
     "metadata": {},
     "output_type": "execute_result"
    },
    {
     "data": {
      "image/png": "[encoded data removed]",
      "text/plain": [
       "<Figure size 432x288 with 1 Axes>"
      ]
     },
     "metadata": {
      "needs_background": "light"
     },
     "output_type": "display_data"
    }
   ],
   "source": [
    "sns.countplot(data['class'])"
   ]
  },
  {
   "cell_type": "markdown",
   "id": "interested-lease",
   "metadata": {},
   "source": [
    "---"
   ]
  },
  {
   "cell_type": "markdown",
   "id": "aerial-jordan",
   "metadata": {},
   "source": [
    "# 3 - 2차원 데이터 살펴보기\n",
    "* 2차원 데이터는 1차원 데이터에서 적용했던 평균 및 분산과 같은 방법을 사용하여 설명할 수 없다.\n",
    "* 따라서, 2차원 데이터를 설명하기 위해 `공분산`과 `상관계수`에 대해 알아보고 적용해보고자 한다."
   ]
  },
  {
   "cell_type": "markdown",
   "id": "skilled-artwork",
   "metadata": {},
   "source": [
    "## 3.1 - 공분산(Covariance)\n",
    "\n",
    "$$ Cov(X, Y) = \\frac{\\sum^{N}_{i=1}{(x_i - \\bar{X})(y_i - \\bar{Y})}}{N}$$\n",
    "* `공분산`은 기존 1차원 데이터를 설명할 때 사용했던 분산과 비슷한 개념을 가지며, 두 개의 분산을 동시에 본다는 개념으로 이해할 수 있다.\n",
    "* `공분산`을 이용하면 두 개의 변수 사이의 상관정도를 구할 수 있지만, 단위에 영향을 받기 때문에 부정확한 해석의 여지를 남길 수 있다는 한계가 존재한다.\n",
    "* `sepal length`와 `petal length` 변수로 구성된 `cov_df` 데이터프레임을 구성하여 실습을 진행하고자 한다."
   ]
  },
  {
   "cell_type": "code",
   "execution_count": 44,
   "id": "satellite-receiver",
   "metadata": {},
   "outputs": [],
   "source": [
    "sepal, petal = data['sepal length (cm)'], data['petal length (cm)']"
   ]
  },
  {
   "cell_type": "markdown",
   "id": "growing-crime",
   "metadata": {},
   "source": [
    "* `numpy`에서 제공하는 `.cov()` 함수를 활용하여 **분산공분산 행렬(variance-covariance matrix)**을 얻을 수 있음\n",
    "* 행렬의 1행 1열이 첫 번째 인수인 `sepal width`, 2행 2열이 두 번째 인수인 `petal length`에 대응하며, 이를 교차한 나머지 성분이 **공분산**에 해당"
   ]
  },
  {
   "cell_type": "code",
   "execution_count": 45,
   "id": "thermal-price",
   "metadata": {},
   "outputs": [
    {
     "name": "stdout",
     "output_type": "stream",
     "text": [
      "공분산 : 1.2743154362416111\n"
     ]
    },
    {
     "data": {
      "text/plain": [
       "array([[0.68569351, 1.27431544],\n",
       "       [1.27431544, 3.11627785]])"
      ]
     },
     "execution_count": 45,
     "metadata": {},
     "output_type": "execute_result"
    }
   ],
   "source": [
    "cov = np.cov(sepal, petal)\n",
    "print('공분산 : {}'.format(cov[0, 1]))\n",
    "cov"
   ]
  },
  {
   "cell_type": "markdown",
   "id": "senior-distance",
   "metadata": {},
   "source": [
    "* 1행 1열과 2행 2열은 단일 변수로 구성되며, 이는 자연스럽게 각 변수의 분산을 나타냄\n",
    "* 위의 분산공분산 행렬에서 구한 분산과 일치하는 것을 확인할 수 있음"
   ]
  },
  {
   "cell_type": "code",
   "execution_count": 48,
   "id": "statistical-ability",
   "metadata": {},
   "outputs": [
    {
     "data": {
      "text/plain": [
       "(0.6811222222222223, 3.0955026666666665)"
      ]
     },
     "execution_count": 48,
     "metadata": {},
     "output_type": "execute_result"
    }
   ],
   "source": [
    "var_sepal, var_petal = np.var(sepal), np.var(petal)\n",
    "var_sepal, var_petal"
   ]
  },
  {
   "cell_type": "markdown",
   "id": "impaired-shaft",
   "metadata": {},
   "source": [
    "## 3.2 - 상관계수(Correlation Coefficient)\n",
    "* `상관계수`는 두 변수 사이의 상관을 나타낼 때 사용하는 지표로, 양의 상관관계를 가질수록 1로, 음의 상관관계를 가질수록 -1로 수렴한다.\n",
    "$$\n",
    "r_{xy} = \\frac{S_{xy}}{S_{x}S_{y}} \\\\\n",
    "= \\frac{1}{n}\\sum^{n}_{i=1}({\\frac{x_i - \\bar{x}}{S_x}})(\\frac{y_i - \\bar{y}}{S_y})\n",
    "$$\n",
    "\n",
    "* `Pandas`의 `.corr()` 함수를 활용하여 상관계수를 손쉽게 구할 수 있음\n",
    "* 분산공분산 행렬과 마찬가지로 1행 2열, 2행 1열이 두 변수의 상관계수임을 확인할 수 있음"
   ]
  },
  {
   "cell_type": "code",
   "execution_count": 52,
   "id": "acknowledged-departure",
   "metadata": {},
   "outputs": [
    {
     "data": {
      "text/html": [
       "<div>\n",
       "<style scoped>\n",
       "    .dataframe tbody tr th:only-of-type {\n",
       "        vertical-align: middle;\n",
       "    }\n",
       "\n",
       "    .dataframe tbody tr th {\n",
       "        vertical-align: top;\n",
       "    }\n",
       "\n",
       "    .dataframe thead th {\n",
       "        text-align: right;\n",
       "    }\n",
       "</style>\n",
       "<table border=\"1\" class=\"dataframe\">\n",
       "  <thead>\n",
       "    <tr style=\"text-align: right;\">\n",
       "      <th></th>\n",
       "      <th>sepal length (cm)</th>\n",
       "      <th>petal length (cm)</th>\n",
       "    </tr>\n",
       "  </thead>\n",
       "  <tbody>\n",
       "    <tr>\n",
       "      <th>sepal length (cm)</th>\n",
       "      <td>1.000000</td>\n",
       "      <td>0.871754</td>\n",
       "    </tr>\n",
       "    <tr>\n",
       "      <th>petal length (cm)</th>\n",
       "      <td>0.871754</td>\n",
       "      <td>1.000000</td>\n",
       "    </tr>\n",
       "  </tbody>\n",
       "</table>\n",
       "</div>"
      ],
      "text/plain": [
       "                   sepal length (cm)  petal length (cm)\n",
       "sepal length (cm)           1.000000           0.871754\n",
       "petal length (cm)           0.871754           1.000000"
      ]
     },
     "execution_count": 52,
     "metadata": {},
     "output_type": "execute_result"
    }
   ],
   "source": [
    "coco = pd.concat([sepal, petal], axis=1).corr()\n",
    "coco"
   ]
  },
  {
   "cell_type": "markdown",
   "id": "engaged-sheet",
   "metadata": {},
   "source": [
    "* 꽃잎과 꽃받침 길이는 0.87의 상관관계를 가지며, 이는 상당히 높은 양의 상관관계를 의미한다.\n",
    "* **꽃잎의 길이가 커질수록 꽃받침의 길이도 커진다**는 것으로 해석할 수 있다."
   ]
  },
  {
   "cell_type": "markdown",
   "id": "opponent-memphis",
   "metadata": {},
   "source": [
    "## 3.3 - 2차원 데이터 시각화\n",
    "* 1차원 데이터 시각화와 마찬가지로 `matplotlib` 라이브러리를 활용하여 "
   ]
  },
  {
   "cell_type": "markdown",
   "id": "representative-destruction",
   "metadata": {},
   "source": [
    "### 3.3.1 - 산점도(Scatter)\n",
    "* 2차원 데이터를 표현하는데에는 `산점도`가 효과적이며, 이는 두 변수의 위치를 그래프 상에서 점으로 표현한 것이다."
   ]
  },
  {
   "cell_type": "code",
   "execution_count": 53,
   "id": "logical-heart",
   "metadata": {},
   "outputs": [
    {
     "data": {
      "image/png": "[encoded data removed]",
      "text/plain": [
       "<Figure size 576x576 with 1 Axes>"
      ]
     },
     "metadata": {
      "needs_background": "light"
     },
     "output_type": "display_data"
    }
   ],
   "source": [
    "fig = plt.figure(figsize=(8, 8))\n",
    "ax = fig.add_subplot(111)\n",
    "\n",
    "# 산점도\n",
    "ax.scatter(sepal, petal)\n",
    "ax.set_xlabel('sepal')\n",
    "ax.set_ylabel('petal')\n",
    "\n",
    "plt.show()"
   ]
  },
  {
   "cell_type": "markdown",
   "id": "conscious-vintage",
   "metadata": {},
   "source": [
    "* 대체로 꽃잎의 크기가 커질수록 꽃받침의 크기도 커지는 것을 알 수 있다."
   ]
  },
  {
   "cell_type": "markdown",
   "id": "burning-medline",
   "metadata": {},
   "source": [
    "### 3.3.2 - 회귀직선(Regression Line)\n",
    "* **회귀직선**은 두 데이터 사이의 관계를 잘 표현하는 직선을 의미\n",
    "* `Matplotlib`에는 회귀직선을 그리는 함수가 없기에, `numpy`에서 직접 구현\n",
    "* 회귀직선을 $y$라고 했을 때, 회귀직선 방정식은 아래의 수식과 같음\n",
    "$$y = \\beta_0 + \\beta_1{x}$$"
   ]
  },
  {
   "cell_type": "code",
   "execution_count": 60,
   "id": "acting-reducing",
   "metadata": {},
   "outputs": [
    {
     "data": {
      "image/png": "[encoded data removed]",
      "text/plain": [
       "<Figure size 576x576 with 1 Axes>"
      ]
     },
     "metadata": {
      "needs_background": "light"
     },
     "output_type": "display_data"
    }
   ],
   "source": [
    "poly_fit = np.polyfit(sepal, petal, 1) # 계수 b0와 b1 산출\n",
    "poly_1d = np.poly1d(poly_fit) # b0 + b1x를 반환하는 함수 작성\n",
    "cx = np.linspace(sepal.min(), petal.max()) # x좌표 생성\n",
    "cy = poly_1d(cx) # y좌표 생성\n",
    "\n",
    "fig = plt.figure(figsize=(8, 8))\n",
    "ax = fig.add_subplot(111)\n",
    "ax.scatter(sepal, petal, label = ' score')\n",
    "ax.plot(cx, cy, color='gray', label=f'{poly_fit[1]:.2f} + {poly_fit[0]:.2f}x')\n",
    "ax.set_xlabel('sepal')\n",
    "ax.set_ylabel('petal')\n",
    "ax.set_ylim(0, 8)\n",
    "ax.set_xlim(4, 8)\n",
    "ax.legend(loc='upper right')\n",
    "\n",
    "plt.show()"
   ]
  },
  {
   "cell_type": "markdown",
   "id": "caring-night",
   "metadata": {},
   "source": [
    "* 대체로 $y = x + b$의 형태의 직선을 따르는 그래프가 출력된 것을 확인할 수 있다."
   ]
  },
  {
   "cell_type": "markdown",
   "id": "ceramic-suite",
   "metadata": {},
   "source": [
    "### 3.3.3 - 히트맵(Heat Map)\n",
    "* **히트맵**은 히스토그램을 2차원으로 표현한 것으로, `hist2d` 함수를 활용"
   ]
  },
  {
   "cell_type": "code",
   "execution_count": 77,
   "id": "broke-analysis",
   "metadata": {},
   "outputs": [
    {
     "data": {
      "image/png": "[encoded data removed]",
      "text/plain": [
       "<Figure size 720x720 with 2 Axes>"
      ]
     },
     "metadata": {
      "needs_background": "light"
     },
     "output_type": "display_data"
    }
   ],
   "source": [
    "fig = plt.figure(figsize=(10, 10))\n",
    "ax = fig.add_subplot(111)\n",
    "\n",
    "c = ax.hist2d(sepal, petal)\n",
    "\n",
    "ax.set_xlabel('sepal')\n",
    "ax.set_ylabel('petal')\n",
    "ax.set_xticks(c[1])\n",
    "ax.set_yticks(c[2])\n",
    "\n",
    "fig.colorbar(c[3], ax=ax)\n",
    "plt.show()"
   ]
  },
  {
   "cell_type": "code",
   "execution_count": null,
   "id": "associate-fence",
   "metadata": {},
   "outputs": [],
   "source": []
  }
 ],
 "metadata": {
  "kernelspec": {
   "display_name": "Python 3",
   "language": "python",
   "name": "python3"
  },
  "language_info": {
   "codemirror_mode": {
    "name": "ipython",
    "version": 3
   },
   "file_extension": ".py",
   "mimetype": "text/x-python",
   "name": "python",
   "nbconvert_exporter": "python",
   "pygments_lexer": "ipython3",
   "version": "3.9.2"
  }
 },
 "nbformat": 4,
 "nbformat_minor": 5
}
