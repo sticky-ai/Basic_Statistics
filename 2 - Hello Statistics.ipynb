{
 "cells": [
  {
   "cell_type": "markdown",
   "id": "encouraging-specific",
   "metadata": {},
   "source": [
    "# Hello Statistics !\n",
    "---"
   ]
  },
  {
   "cell_type": "code",
   "execution_count": 3,
   "id": "greatest-surgeon",
   "metadata": {},
   "outputs": [],
   "source": [
    "import numpy as np\n",
    "import pandas as pd\n",
    "import matplotlib.pyplot as plt"
   ]
  },
  {
   "cell_type": "markdown",
   "id": "substantial-corrections",
   "metadata": {},
   "source": [
    "# 1 - 추측통계(Inferential Statistics)\n",
    "* `추측통계`란, 일부 데이터로부터 전체의 통계적 성질을 추측하는 방식을 의미한다.\n",
    "* 추측통계에서는 관측 대상 전체의 통계적 성질을 대상의 일부분만 사용하여 추측한다."
   ]
  },
  {
   "cell_type": "markdown",
   "id": "perceived-helicopter",
   "metadata": {},
   "source": [
    "## 1.1 - 모집단과 표본집단\n",
    "* 추측하고 싶은 관측 대상 전체를 `모집단(Population)`이라 하고, 추측에 사용하는 관측 대상의 일부분을 `표본(Sample)`이라 정의한다.\n",
    "* 모집단에서 표본을 추출하는 일을 `표본추출(Sampling)`이라 하고, 골라낸 표본의 수를 `표본 크기` 혹은 `샘플 사이즈`라 정의한다.\n",
    "* 표본을 바탕으로 계산된 평균, 분산, 상관계수 등을 `표본통계량`이라 하며, 모집단의 평균, 분산, 상관계수 등을 `모수`라 정의한다.\n",
    "* 추출된 표본으로부터 모평균을 추측할 때 표본평균은 모평균의 `추정량(Estiamtor)`라 하며, 실제 표본데이터의 계산 결과를 `추정값(Estimate)`이라 정의한다."
   ]
  },
  {
   "cell_type": "code",
   "execution_count": 4,
   "id": "timely-killer",
   "metadata": {},
   "outputs": [
    {
     "name": "stdout",
     "output_type": "stream",
     "text": [
      "학생 수 : 500, 모평균 : 54.12\n"
     ]
    }
   ],
   "source": [
    "np.random.seed(0)\n",
    "data = np.random.randint(30, 80, size=500)\n",
    "print('학생 수 : {}, 모평균 : {:.2f}'.format(len(data), np.mean(data)))"
   ]
  },
  {
   "cell_type": "markdown",
   "id": "painted-column",
   "metadata": {},
   "source": [
    "* 몸무게가 30에서 80사이에 분포하는 학생 집단을 임의로 생성하였다.\n",
    "* 모집단을 구성하는 학생 수는 **500명**이며, 모집단의 몸무게 평균은 **54.12**이다."
   ]
  },
  {
   "cell_type": "markdown",
   "id": "great-union",
   "metadata": {},
   "source": [
    "## 1.2 - 표본추출 방법\n",
    "* 전교생이 500명인 학교의 학생 몸무게 평균을 구하기 위해서는 전체 학생의 몸무게 데이터가 필요하나, 이는 많은 자원과 시간을 필요로 한다.\n",
    "* 따라서, 전체 학생 중 일부 학생만을 추출하여 전체 학생의 몸무게 평균을 추정하고자 하는데, 이때 사용되는 것이 `표본추출`이다.\n",
    "\n",
    "### 1.2.1 - 무작위 추출(Random Sampling)\n"
   ]
  },
  {
   "cell_type": "markdown",
   "id": "accompanied-welcome",
   "metadata": {},
   "source": [
    "* **무작위추출**은 말 그대로 임의로 표본을 추출하는 방법이다.\n",
    "* 무작위로 50명의 학생 몸무게를 추출한 표본집단의 표본평균과 모평균을 비교해본다."
   ]
  },
  {
   "cell_type": "code",
   "execution_count": 5,
   "id": "uniform-concern",
   "metadata": {},
   "outputs": [
    {
     "name": "stdout",
     "output_type": "stream",
     "text": [
      "학생 수 : 10, 표본평균 : 49.90\n",
      "학생 수 : 20, 표본평균 : 54.85\n",
      "학생 수 : 30, 표본평균 : 53.20\n",
      "학생 수 : 40, 표본평균 : 51.45\n",
      "학생 수 : 50, 표본평균 : 55.60\n"
     ]
    }
   ],
   "source": [
    "for n_sample in range(10, 51, 10):\n",
    "    random_sample = np.random.choice(data, n_sample)\n",
    "    print('학생 수 : {}, 표본평균 : {:.2f}'.format(len(random_sample), np.mean(random_sample)))"
   ]
  },
  {
   "cell_type": "markdown",
   "id": "dominican-lewis",
   "metadata": {},
   "source": [
    "* 대체로 모평균으로부터 추출한 표본집단의 크기가 커질수록 표본평균이 모평균에 근사하는 것을 확인할 수 있다."
   ]
  },
  {
   "cell_type": "code",
   "execution_count": 6,
   "id": "connected-classics",
   "metadata": {},
   "outputs": [
    {
     "name": "stdout",
     "output_type": "stream",
     "text": [
      "학생 수 : 50, 표본평균 : 51.04\n",
      "학생 수 : 50, 표본평균 : 56.22\n",
      "학생 수 : 50, 표본평균 : 56.86\n",
      "학생 수 : 50, 표본평균 : 53.70\n",
      "학생 수 : 50, 표본평균 : 55.60\n"
     ]
    }
   ],
   "source": [
    "for _ in range(5):\n",
    "    random_sample = np.random.choice(data, 50)\n",
    "    print('학생 수 : {}, 표본평균 : {:.2f}'.format(len(random_sample), np.mean(random_sample)))"
   ]
  },
  {
   "cell_type": "markdown",
   "id": "brief-speaker",
   "metadata": {},
   "source": [
    "* 표본집단의 크기가 50인 표본집단의 표본평균은 모평균과 유사하게 나타나는 것을 확인할 수 있다."
   ]
  },
  {
   "cell_type": "markdown",
   "id": "compound-thing",
   "metadata": {},
   "source": [
    "### 1.2.2 - 복원추출과 비복원추출\n",
    "* `복원추출`은 모집단으로부터 표본을 추출할 때 동일한 표본을 여러 차례 선택하여 추출하는 방법이다.\n",
    "* `비복원추출`은 모집단으로부터 표본을 추출할 때 동일한 표본은 한 번만 선택하는 방법이다.\n",
    "* 앞서 사용한 `np.random.choice` 함수는 기본적으로 복원추출을 수행하며, `replace` 파라미터를 `False`로 변경하면 비복원추출을 진행할 수 있다."
   ]
  },
  {
   "cell_type": "code",
   "execution_count": 7,
   "id": "clinical-gross",
   "metadata": {},
   "outputs": [
    {
     "name": "stdout",
     "output_type": "stream",
     "text": [
      "학생 수 : 50, 표본평균 : 54.86\n",
      "학생 수 : 50, 표본평균 : 53.04\n",
      "학생 수 : 50, 표본평균 : 55.84\n",
      "학생 수 : 50, 표본평균 : 54.98\n",
      "학생 수 : 50, 표본평균 : 56.02\n"
     ]
    }
   ],
   "source": [
    "for _ in range(5):\n",
    "    random_sample = np.random.choice(data, 50, replace=False)\n",
    "    print('학생 수 : {}, 표본평균 : {:.2f}'.format(len(random_sample), np.mean(random_sample)))"
   ]
  },
  {
   "cell_type": "markdown",
   "id": "growing-republic",
   "metadata": {},
   "source": [
    "* 비복원추출을 진행하더라도 표본평균은 모평균과 유사함을 확인할 수 있다."
   ]
  },
  {
   "cell_type": "markdown",
   "id": "ambient-cruise",
   "metadata": {},
   "source": [
    "---"
   ]
  },
  {
   "cell_type": "markdown",
   "id": "blond-crawford",
   "metadata": {},
   "source": [
    "# 2 - 확률 모형\n",
    "* 무작위추출은 임의로 표본을 추출하는 것이기에, 어떤 결과가 나올지 알 수 없다.\n",
    "* 이러한 불확정성을 수반한 현상들을 설명하기 위해 `확률(Probability)` 또는 `확률 모형(Probability Model)`이라는 개념을 사용한다."
   ]
  },
  {
   "cell_type": "markdown",
   "id": "sound-insider",
   "metadata": {},
   "source": [
    "## 2.1 - 확률변수(Random Variable)"
   ]
  },
  {
   "cell_type": "markdown",
   "id": "juvenile-miami",
   "metadata": {},
   "source": [
    "* 주사위는 6개의 눈이 있고, 주사위를 던지면 1부터 6까지의 눈 중 하나의 숫자가 나오게 됩니다. 이와 같이 결과를 알아맞힐 수 없지만, 취하는 값과 그 값이 나올 확률이 결정되어 있는 변수를 `확률변수`이라 정의한다.\n",
    "\n",
    "\n",
    "* `확률변수`의 결과를 관측하는 것을 `시행(Trial)`이라 하고, 시행에 의해 관측되는 값을 `실현값(Realization)`, 시행 결과로 나타날 수 있는 일을 `사건(Event)`이라 정의한다.\n"
   ]
  },
  {
   "cell_type": "markdown",
   "id": "fixed-carroll",
   "metadata": {},
   "source": [
    "## 2.2 - 확률의 수식화\n",
    "* 모든 확률은 수식으로 표현할 수 있습니다. 주사위의 눈을 확률변수 $X$로 나타낼 때, 주사위의 눈이 `1`이 나오는 사건의 확률이 $\\frac{1}{6}$이라는 것은 아래와 같이 표현한다.\n",
    "$$P(X=1) = \\frac{1}{6}$$\n",
    "\n",
    "\n",
    "* 눈이 `홀수`가 나오는 사건의 확률은 다음과 같이 표현할 수 있다.\n",
    "$$\n",
    "P((X=1)\\cup (X=3) \\cup (X=5)) \\\\ \n",
    "= P(X=1) + P(X=3) + P(X=5) \\\\\n",
    "= \\frac{1}{6} + \\frac{1}{6} + \\frac{1}{6} = \\frac{3}{6}= \\frac{1}{2}\n",
    "$$"
   ]
  },
  {
   "cell_type": "markdown",
   "id": "suspended-characteristic",
   "metadata": {},
   "source": [
    "* 위의 예시에서 확률의 중요한 성질을 알 수 있다. '사건이 서로 배반이라면, 적어도 하나가 일어나는 사건은 각 사건 확률의 합과 같다'라는 것이다.\n",
    "* 이를 풀어서 설명하면, 사건이 `상호배반(Mutually Exclusive)`이라는 것은 각 사건이 동시에 일어날 수 없다라는 것이다.\n",
    "* `눈이 홀수`라는 사건의 확률이 $\\frac{1}{2}$가 되는 이유는, 눈 `1` 또는 `3` 또는 `5`는 상호배반이므로 각각의 확률을 더할 수 있기 때문이다."
   ]
  },
  {
   "cell_type": "markdown",
   "id": "indirect-survey",
   "metadata": {},
   "source": [
    "## 2.3 - 확률분포(Probability Distribution)"
   ]
  },
  {
   "cell_type": "code",
   "execution_count": null,
   "id": "outside-adoption",
   "metadata": {},
   "outputs": [],
   "source": []
  }
 ],
 "metadata": {
  "kernelspec": {
   "display_name": "Python 3",
   "language": "python",
   "name": "python3"
  },
  "language_info": {
   "codemirror_mode": {
    "name": "ipython",
    "version": 3
   },
   "file_extension": ".py",
   "mimetype": "text/x-python",
   "name": "python",
   "nbconvert_exporter": "python",
   "pygments_lexer": "ipython3",
   "version": "3.9.2"
  }
 },
 "nbformat": 4,
 "nbformat_minor": 5
}
