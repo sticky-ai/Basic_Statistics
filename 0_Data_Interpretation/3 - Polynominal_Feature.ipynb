{
 "cells": [
  {
   "cell_type": "code",
   "execution_count": 1,
   "id": "coastal-protest",
   "metadata": {},
   "outputs": [],
   "source": [
    "\"\"\" Install Libraries \"\"\"\n",
    "# !pip3 install pandas\n",
    "# !pip3 install numpy\n",
    "# !pip3 install sklearn\n",
    "# !pip3 install matplotlib\n",
    "\n",
    "\"\"\" Load Libraries\"\"\"\n",
    "import pandas as pd\n",
    "import numpy as np\n",
    "import matplotlib.pyplot as plt\n",
    "from sklearn.datasets import load_iris\n",
    "%matplotlib inline"
   ]
  },
  {
   "cell_type": "code",
   "execution_count": 2,
   "id": "spare-adaptation",
   "metadata": {},
   "outputs": [],
   "source": [
    "def load_data():\n",
    "    data_iris = load_iris()\n",
    "    data = pd.DataFrame(data=np.c_[data_iris['data'], data_iris['target']], \n",
    "                    columns=data_iris['feature_names'] + ['class'])\n",
    "    data['class'] = data['class'].astype('category')\n",
    "    return data"
   ]
  },
  {
   "cell_type": "markdown",
   "id": "normal-treatment",
   "metadata": {},
   "source": [
    "# 3.0 - Load Dataset "
   ]
  },
  {
   "cell_type": "code",
   "execution_count": 4,
   "id": "lovely-sheffield",
   "metadata": {},
   "outputs": [
    {
     "data": {
      "text/html": [
       "<div>\n",
       "<style scoped>\n",
       "    .dataframe tbody tr th:only-of-type {\n",
       "        vertical-align: middle;\n",
       "    }\n",
       "\n",
       "    .dataframe tbody tr th {\n",
       "        vertical-align: top;\n",
       "    }\n",
       "\n",
       "    .dataframe thead th {\n",
       "        text-align: right;\n",
       "    }\n",
       "</style>\n",
       "<table border=\"1\" class=\"dataframe\">\n",
       "  <thead>\n",
       "    <tr style=\"text-align: right;\">\n",
       "      <th></th>\n",
       "      <th>sepal length (cm)</th>\n",
       "      <th>sepal width (cm)</th>\n",
       "      <th>petal length (cm)</th>\n",
       "      <th>petal width (cm)</th>\n",
       "      <th>class</th>\n",
       "    </tr>\n",
       "  </thead>\n",
       "  <tbody>\n",
       "    <tr>\n",
       "      <th>0</th>\n",
       "      <td>5.1</td>\n",
       "      <td>3.5</td>\n",
       "      <td>1.4</td>\n",
       "      <td>0.2</td>\n",
       "      <td>0.0</td>\n",
       "    </tr>\n",
       "    <tr>\n",
       "      <th>1</th>\n",
       "      <td>4.9</td>\n",
       "      <td>3.0</td>\n",
       "      <td>1.4</td>\n",
       "      <td>0.2</td>\n",
       "      <td>0.0</td>\n",
       "    </tr>\n",
       "    <tr>\n",
       "      <th>2</th>\n",
       "      <td>4.7</td>\n",
       "      <td>3.2</td>\n",
       "      <td>1.3</td>\n",
       "      <td>0.2</td>\n",
       "      <td>0.0</td>\n",
       "    </tr>\n",
       "    <tr>\n",
       "      <th>3</th>\n",
       "      <td>4.6</td>\n",
       "      <td>3.1</td>\n",
       "      <td>1.5</td>\n",
       "      <td>0.2</td>\n",
       "      <td>0.0</td>\n",
       "    </tr>\n",
       "    <tr>\n",
       "      <th>4</th>\n",
       "      <td>5.0</td>\n",
       "      <td>3.6</td>\n",
       "      <td>1.4</td>\n",
       "      <td>0.2</td>\n",
       "      <td>0.0</td>\n",
       "    </tr>\n",
       "    <tr>\n",
       "      <th>...</th>\n",
       "      <td>...</td>\n",
       "      <td>...</td>\n",
       "      <td>...</td>\n",
       "      <td>...</td>\n",
       "      <td>...</td>\n",
       "    </tr>\n",
       "    <tr>\n",
       "      <th>145</th>\n",
       "      <td>6.7</td>\n",
       "      <td>3.0</td>\n",
       "      <td>5.2</td>\n",
       "      <td>2.3</td>\n",
       "      <td>2.0</td>\n",
       "    </tr>\n",
       "    <tr>\n",
       "      <th>146</th>\n",
       "      <td>6.3</td>\n",
       "      <td>2.5</td>\n",
       "      <td>5.0</td>\n",
       "      <td>1.9</td>\n",
       "      <td>2.0</td>\n",
       "    </tr>\n",
       "    <tr>\n",
       "      <th>147</th>\n",
       "      <td>6.5</td>\n",
       "      <td>3.0</td>\n",
       "      <td>5.2</td>\n",
       "      <td>2.0</td>\n",
       "      <td>2.0</td>\n",
       "    </tr>\n",
       "    <tr>\n",
       "      <th>148</th>\n",
       "      <td>6.2</td>\n",
       "      <td>3.4</td>\n",
       "      <td>5.4</td>\n",
       "      <td>2.3</td>\n",
       "      <td>2.0</td>\n",
       "    </tr>\n",
       "    <tr>\n",
       "      <th>149</th>\n",
       "      <td>5.9</td>\n",
       "      <td>3.0</td>\n",
       "      <td>5.1</td>\n",
       "      <td>1.8</td>\n",
       "      <td>2.0</td>\n",
       "    </tr>\n",
       "  </tbody>\n",
       "</table>\n",
       "<p>150 rows × 5 columns</p>\n",
       "</div>"
      ],
      "text/plain": [
       "     sepal length (cm)  sepal width (cm)  petal length (cm)  petal width (cm)  \\\n",
       "0                  5.1               3.5                1.4               0.2   \n",
       "1                  4.9               3.0                1.4               0.2   \n",
       "2                  4.7               3.2                1.3               0.2   \n",
       "3                  4.6               3.1                1.5               0.2   \n",
       "4                  5.0               3.6                1.4               0.2   \n",
       "..                 ...               ...                ...               ...   \n",
       "145                6.7               3.0                5.2               2.3   \n",
       "146                6.3               2.5                5.0               1.9   \n",
       "147                6.5               3.0                5.2               2.0   \n",
       "148                6.2               3.4                5.4               2.3   \n",
       "149                5.9               3.0                5.1               1.8   \n",
       "\n",
       "    class  \n",
       "0     0.0  \n",
       "1     0.0  \n",
       "2     0.0  \n",
       "3     0.0  \n",
       "4     0.0  \n",
       "..    ...  \n",
       "145   2.0  \n",
       "146   2.0  \n",
       "147   2.0  \n",
       "148   2.0  \n",
       "149   2.0  \n",
       "\n",
       "[150 rows x 5 columns]"
      ]
     },
     "execution_count": 4,
     "metadata": {},
     "output_type": "execute_result"
    }
   ],
   "source": [
    "data = load_data()\n",
    "data"
   ]
  },
  {
   "cell_type": "markdown",
   "id": "rolled-journalist",
   "metadata": {},
   "source": [
    "# 3.1 - The relationship between 2 Features\n",
    "\n",
    "* 2차원 데이터는 1차원 데이터에서 적용했던 평균 및 분산과 같은 방법을 사용하여 설명할 수 없음\n",
    "* 따라서, 2차원 데이터를 설명하기 위해 `공분산`과 `상관계수`에 대해 알아보고 적용해보겠음"
   ]
  },
  {
   "cell_type": "markdown",
   "id": "prescription-market",
   "metadata": {},
   "source": [
    "## 3.1.1 - 공분산(Covariance)\n",
    "* **공분산**은 기존 1차원 데이터를 설명할 때 사용했던 분산과 개념이 비슷하며, 두 개의 분산을 동시에 본다는 개념으로 이해하면 좋음\n",
    "* `sepal width`와 `petal length` 변수로 구성된 `cov_df` 데이터프레임을 구성하여 실습을 진행하고자 함\n"
   ]
  },
  {
   "cell_type": "code",
   "execution_count": 12,
   "id": "major-pacific",
   "metadata": {},
   "outputs": [
    {
     "data": {
      "text/html": [
       "<div>\n",
       "<style scoped>\n",
       "    .dataframe tbody tr th:only-of-type {\n",
       "        vertical-align: middle;\n",
       "    }\n",
       "\n",
       "    .dataframe tbody tr th {\n",
       "        vertical-align: top;\n",
       "    }\n",
       "\n",
       "    .dataframe thead th {\n",
       "        text-align: right;\n",
       "    }\n",
       "</style>\n",
       "<table border=\"1\" class=\"dataframe\">\n",
       "  <thead>\n",
       "    <tr style=\"text-align: right;\">\n",
       "      <th></th>\n",
       "      <th>sepal width (cm)</th>\n",
       "      <th>petal length (cm)</th>\n",
       "    </tr>\n",
       "  </thead>\n",
       "  <tbody>\n",
       "    <tr>\n",
       "      <th>0</th>\n",
       "      <td>3.5</td>\n",
       "      <td>1.4</td>\n",
       "    </tr>\n",
       "    <tr>\n",
       "      <th>1</th>\n",
       "      <td>3.0</td>\n",
       "      <td>1.4</td>\n",
       "    </tr>\n",
       "    <tr>\n",
       "      <th>2</th>\n",
       "      <td>3.2</td>\n",
       "      <td>1.3</td>\n",
       "    </tr>\n",
       "    <tr>\n",
       "      <th>3</th>\n",
       "      <td>3.1</td>\n",
       "      <td>1.5</td>\n",
       "    </tr>\n",
       "    <tr>\n",
       "      <th>4</th>\n",
       "      <td>3.6</td>\n",
       "      <td>1.4</td>\n",
       "    </tr>\n",
       "    <tr>\n",
       "      <th>...</th>\n",
       "      <td>...</td>\n",
       "      <td>...</td>\n",
       "    </tr>\n",
       "    <tr>\n",
       "      <th>145</th>\n",
       "      <td>3.0</td>\n",
       "      <td>5.2</td>\n",
       "    </tr>\n",
       "    <tr>\n",
       "      <th>146</th>\n",
       "      <td>2.5</td>\n",
       "      <td>5.0</td>\n",
       "    </tr>\n",
       "    <tr>\n",
       "      <th>147</th>\n",
       "      <td>3.0</td>\n",
       "      <td>5.2</td>\n",
       "    </tr>\n",
       "    <tr>\n",
       "      <th>148</th>\n",
       "      <td>3.4</td>\n",
       "      <td>5.4</td>\n",
       "    </tr>\n",
       "    <tr>\n",
       "      <th>149</th>\n",
       "      <td>3.0</td>\n",
       "      <td>5.1</td>\n",
       "    </tr>\n",
       "  </tbody>\n",
       "</table>\n",
       "<p>150 rows × 2 columns</p>\n",
       "</div>"
      ],
      "text/plain": [
       "     sepal width (cm)  petal length (cm)\n",
       "0                 3.5                1.4\n",
       "1                 3.0                1.4\n",
       "2                 3.2                1.3\n",
       "3                 3.1                1.5\n",
       "4                 3.6                1.4\n",
       "..                ...                ...\n",
       "145               3.0                5.2\n",
       "146               2.5                5.0\n",
       "147               3.0                5.2\n",
       "148               3.4                5.4\n",
       "149               3.0                5.1\n",
       "\n",
       "[150 rows x 2 columns]"
      ]
     },
     "execution_count": 12,
     "metadata": {},
     "output_type": "execute_result"
    }
   ],
   "source": [
    "cov_df = data.iloc[:,1:3]\n",
    "cov_df"
   ]
  },
  {
   "cell_type": "markdown",
   "id": "established-traffic",
   "metadata": {},
   "source": [
    "* `numpy`에서 제공하는 `.cov()` 함수를 활용하여 **분산공분산 행렬(variance-covariance matrix)**을 얻을 수 있음\n",
    "* 행렬의 1행 1열이 첫 번째 인수인 `sepal width`, 2행 2열이 두 번째 인수인 `petal length`에 대응하며, 이를 교차한 나머지 성분이 **공분산**에 해당"
   ]
  },
  {
   "cell_type": "code",
   "execution_count": 23,
   "id": "advance-python",
   "metadata": {},
   "outputs": [
    {
     "name": "stdout",
     "output_type": "stream",
     "text": [
      "공분산 : -0.3296563758389261\n"
     ]
    },
    {
     "data": {
      "text/plain": [
       "array([[ 0.18997942, -0.32965638],\n",
       "       [-0.32965638,  3.11627785]])"
      ]
     },
     "execution_count": 23,
     "metadata": {},
     "output_type": "execute_result"
    }
   ],
   "source": [
    "cov = np.cov(cov_df['sepal width (cm)'], cov_df['petal length (cm)'])\n",
    "print('공분산 : {}'.format(cov[0, 1]))\n",
    "cov"
   ]
  },
  {
   "cell_type": "markdown",
   "id": "authentic-blond",
   "metadata": {},
   "source": [
    "* 1행 1열과 2행 2열은 단일 변수로 구성되며, 이는 자연스럽게 각 변수의 분산을 나타냄\n",
    "* 위의 분산공분산 행렬에서 구한 분산과 일치하는 것을 확인할 수 있음"
   ]
  },
  {
   "cell_type": "code",
   "execution_count": 25,
   "id": "vertical-soldier",
   "metadata": {},
   "outputs": [
    {
     "data": {
      "text/plain": [
       "(0.1887128888888889, 3.0955026666666665)"
      ]
     },
     "execution_count": 25,
     "metadata": {},
     "output_type": "execute_result"
    }
   ],
   "source": [
    "var_sepal, var_petal = np.var(cov_df['sepal width (cm)']), np.var(cov_df['petal length (cm)'])\n",
    "var_sepal, var_petal"
   ]
  },
  {
   "cell_type": "markdown",
   "id": "acting-thinking",
   "metadata": {},
   "source": [
    "## 3.1.2 - 상관계수(Correlation Coefficient)\n",
    "* **상관계수**는 두 변수 사이의 상관을 나타낼 때 사용하는 지표\n",
    "* **상관계수**는 양의 상관관계를 가질수록 1로, 음의 상관관계를 가질수록 -1로 수렴\n",
    "$$\n",
    "r_{xy} = \\frac{S_{xy}}{S_{x}S_{y}} \\\\\n",
    "= \\frac{1}{n}\\sum^{n}_{i=1}({\\frac{x_i - \\bar{x}}{S_x}})(\\frac{y_i - \\bar{y}}{S_y})\n",
    "$$"
   ]
  },
  {
   "cell_type": "markdown",
   "id": "entire-smith",
   "metadata": {},
   "source": [
    "* `Pandas`의 `.corr()` 함수를 활용하여 상관계수를 손쉽게 구할 수 있음\n",
    "* 분산공분산 행렬과 마찬가지로 1행 2열, 2행 1열이 두 변수의 상관계수임을 확인할 수 있음"
   ]
  },
  {
   "cell_type": "code",
   "execution_count": 28,
   "id": "controlling-headquarters",
   "metadata": {},
   "outputs": [
    {
     "data": {
      "text/html": [
       "<div>\n",
       "<style scoped>\n",
       "    .dataframe tbody tr th:only-of-type {\n",
       "        vertical-align: middle;\n",
       "    }\n",
       "\n",
       "    .dataframe tbody tr th {\n",
       "        vertical-align: top;\n",
       "    }\n",
       "\n",
       "    .dataframe thead th {\n",
       "        text-align: right;\n",
       "    }\n",
       "</style>\n",
       "<table border=\"1\" class=\"dataframe\">\n",
       "  <thead>\n",
       "    <tr style=\"text-align: right;\">\n",
       "      <th></th>\n",
       "      <th>sepal width (cm)</th>\n",
       "      <th>petal length (cm)</th>\n",
       "    </tr>\n",
       "  </thead>\n",
       "  <tbody>\n",
       "    <tr>\n",
       "      <th>sepal width (cm)</th>\n",
       "      <td>1.00000</td>\n",
       "      <td>-0.42844</td>\n",
       "    </tr>\n",
       "    <tr>\n",
       "      <th>petal length (cm)</th>\n",
       "      <td>-0.42844</td>\n",
       "      <td>1.00000</td>\n",
       "    </tr>\n",
       "  </tbody>\n",
       "</table>\n",
       "</div>"
      ],
      "text/plain": [
       "                   sepal width (cm)  petal length (cm)\n",
       "sepal width (cm)            1.00000           -0.42844\n",
       "petal length (cm)          -0.42844            1.00000"
      ]
     },
     "execution_count": 28,
     "metadata": {},
     "output_type": "execute_result"
    }
   ],
   "source": [
    "coco = cov_df.corr()\n",
    "coco"
   ]
  },
  {
   "cell_type": "markdown",
   "id": "actual-walnut",
   "metadata": {},
   "source": [
    "# 3.2 - 데이터 시각화(Visualization)\n",
    "* 1차원 데이터 시각화와 마찬가지로 `matplotlib` 라이브러리를 활용하여 시각화"
   ]
  },
  {
   "cell_type": "markdown",
   "id": "advance-appendix",
   "metadata": {},
   "source": [
    "## 3.2.1 - 산점도(Scatter)\n",
    "* 2차원 데이터 시각화에는 **산점도**가 효과적\n",
    "* 두 변수의 위치를 그래프에서 점으로 표현한 것"
   ]
  },
  {
   "cell_type": "code",
   "execution_count": 31,
   "id": "convinced-banks",
   "metadata": {},
   "outputs": [
    {
     "data": {
      "image/png": "[encoded data removed]",
      "text/plain": [
       "<Figure size 576x576 with 1 Axes>"
      ]
     },
     "metadata": {
      "needs_background": "light"
     },
     "output_type": "display_data"
    }
   ],
   "source": [
    "fig = plt.figure(figsize=(8, 8))\n",
    "ax = fig.add_subplot(111)\n",
    "\n",
    "# 산점도\n",
    "ax.scatter(cov_df['sepal width (cm)'], cov_df['petal length (cm)'])\n",
    "ax.set_xlabel('sepal')\n",
    "ax.set_ylabel('petal')\n",
    "\n",
    "plt.show()"
   ]
  },
  {
   "cell_type": "markdown",
   "id": "solved-organizer",
   "metadata": {},
   "source": [
    "* `petal`의 크기가 1인 경우, `sepal`은 대체로 3이상의 크기를 가지는 것을 확인할 수 있음\n",
    "* `petal`의 크기가 3이상인 경우, 대체로 `petal`의 크기가 커질수록 `sepal`의 크기 또한 커지는 것을 확인할 수 있음"
   ]
  },
  {
   "cell_type": "markdown",
   "id": "unavailable-shield",
   "metadata": {},
   "source": [
    "## 3.2.2 - 회귀직선(Regression Line)\n",
    "* **회귀직선**은 두 데이터 사이의 관계를 잘 표현하는 직선을 의미\n",
    "* `Matplotlib`에는 회귀직선을 그리는 함수가 없기에, `numpy`에서 직접 구현\n",
    "* 회귀직선을 $y$라고 했을 때, 회귀직선 방정식은 아래의 수식과 같음\n",
    "$$y = \\beta_0 + \\beta_1{x}$$"
   ]
  },
  {
   "cell_type": "code",
   "execution_count": 38,
   "id": "micro-calculator",
   "metadata": {},
   "outputs": [],
   "source": [
    "poly_fit = np.polyfit(cov_df['sepal width (cm)'], cov_df['petal length (cm)'], 1) # 계수 b0와 b1 산출\n",
    "poly_1d = np.poly1d(poly_fit) # b0 + b1x를 반환하는 함수 작성\n",
    "cx = np.linspace(cov_df['sepal width (cm)'].min(), cov_df['petal length (cm)'].max()) # x좌표 생성\n",
    "cy = poly_1d(cx) # y좌표 생성"
   ]
  },
  {
   "cell_type": "code",
   "execution_count": 47,
   "id": "first-hayes",
   "metadata": {},
   "outputs": [
    {
     "data": {
      "image/png": "[encoded data removed]",
      "text/plain": [
       "<Figure size 576x576 with 1 Axes>"
      ]
     },
     "metadata": {
      "needs_background": "light"
     },
     "output_type": "display_data"
    }
   ],
   "source": [
    "fig = plt.figure(figsize=(8, 8))\n",
    "ax = fig.add_subplot(111)\n",
    "ax.scatter(cov_df['sepal width (cm)'], cov_df['petal length (cm)'], label = ' score')\n",
    "ax.plot(cx, cy, color='gray', label=f'{poly_fit[1]:.2f} + {poly_fit[0]:.2f}x')\n",
    "ax.set_xlabel('sepal')\n",
    "ax.set_ylabel('petal')\n",
    "ax.set_ylim(0, 8)\n",
    "ax.set_xlim(1, 6)\n",
    "ax.legend(loc='upper right')\n",
    "\n",
    "plt.show()"
   ]
  },
  {
   "cell_type": "markdown",
   "id": "french-server",
   "metadata": {},
   "source": [
    "## 3.2.3 - 히트맵(Heat Map)\n",
    "* **히트맵**은 히스토그램을 2차원으로 표현한 것으로, `hist2d` 함수를 활용"
   ]
  },
  {
   "cell_type": "code",
   "execution_count": 58,
   "id": "compatible-nashville",
   "metadata": {},
   "outputs": [
    {
     "data": {
      "image/png": "[encoded data removed]",
      "text/plain": [
       "<Figure size 720x576 with 2 Axes>"
      ]
     },
     "metadata": {
      "needs_background": "light"
     },
     "output_type": "display_data"
    }
   ],
   "source": [
    "fig = plt.figure(figsize=(10, 8))\n",
    "ax = fig.add_subplot(111)\n",
    "\n",
    "c = ax.hist2d(cov_df['sepal width (cm)'], cov_df['petal length (cm)'],\n",
    "             bins=[10, 10], range=[(0, 10), (0, 10)])\n",
    "\n",
    "ax.set_xlabel('sepal')\n",
    "ax.set_ylabel('petal')\n",
    "ax.set_xticks(c[1])\n",
    "ax.set_yticks(c[2])\n",
    "\n",
    "fig.colorbar(c[3], ax=ax)\n",
    "plt.show()"
   ]
  },
  {
   "cell_type": "code",
   "execution_count": null,
   "id": "civic-valentine",
   "metadata": {},
   "outputs": [],
   "source": []
  }
 ],
 "metadata": {
  "kernelspec": {
   "display_name": "Python 3",
   "language": "python",
   "name": "python3"
  },
  "language_info": {
   "codemirror_mode": {
    "name": "ipython",
    "version": 3
   },
   "file_extension": ".py",
   "mimetype": "text/x-python",
   "name": "python",
   "nbconvert_exporter": "python",
   "pygments_lexer": "ipython3",
   "version": "3.9.2"
  }
 },
 "nbformat": 4,
 "nbformat_minor": 5
}
