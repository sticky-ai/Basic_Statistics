{
 "cells": [
  {
   "cell_type": "code",
   "execution_count": 1,
   "id": "athletic-tutorial",
   "metadata": {},
   "outputs": [],
   "source": [
    "\"\"\" Install Libraries \"\"\"\n",
    "# !pip3 install pandas\n",
    "# !pip3 install numpy\n",
    "# !pip3 install sklearn\n",
    "# !pip3 install matplotlib\n",
    "\n",
    "\"\"\" Load Libraries\"\"\"\n",
    "import pandas as pd\n",
    "import numpy as np\n",
    "import matplotlib.pyplot as plt\n",
    "from sklearn.datasets import load_iris\n",
    "%matplotlib inline"
   ]
  },
  {
   "cell_type": "code",
   "execution_count": 2,
   "id": "treated-broad",
   "metadata": {},
   "outputs": [],
   "source": [
    "def load_data():\n",
    "    data_iris = load_iris()\n",
    "    data = pd.DataFrame(data=np.c_[data_iris['data'], data_iris['target']], \n",
    "                    columns=data_iris['feature_names'] + ['class'])\n",
    "    data['class'] = data['class'].astype('category')\n",
    "    return data"
   ]
  },
  {
   "cell_type": "markdown",
   "id": "undefined-chambers",
   "metadata": {},
   "source": [
    "# 1 - Load Dataset"
   ]
  },
  {
   "cell_type": "code",
   "execution_count": 3,
   "id": "acoustic-treasurer",
   "metadata": {},
   "outputs": [
    {
     "data": {
      "text/html": [
       "<div>\n",
       "<style scoped>\n",
       "    .dataframe tbody tr th:only-of-type {\n",
       "        vertical-align: middle;\n",
       "    }\n",
       "\n",
       "    .dataframe tbody tr th {\n",
       "        vertical-align: top;\n",
       "    }\n",
       "\n",
       "    .dataframe thead th {\n",
       "        text-align: right;\n",
       "    }\n",
       "</style>\n",
       "<table border=\"1\" class=\"dataframe\">\n",
       "  <thead>\n",
       "    <tr style=\"text-align: right;\">\n",
       "      <th></th>\n",
       "      <th>sepal length (cm)</th>\n",
       "      <th>sepal width (cm)</th>\n",
       "      <th>petal length (cm)</th>\n",
       "      <th>petal width (cm)</th>\n",
       "      <th>class</th>\n",
       "    </tr>\n",
       "  </thead>\n",
       "  <tbody>\n",
       "    <tr>\n",
       "      <th>0</th>\n",
       "      <td>5.1</td>\n",
       "      <td>3.5</td>\n",
       "      <td>1.4</td>\n",
       "      <td>0.2</td>\n",
       "      <td>0.0</td>\n",
       "    </tr>\n",
       "    <tr>\n",
       "      <th>1</th>\n",
       "      <td>4.9</td>\n",
       "      <td>3.0</td>\n",
       "      <td>1.4</td>\n",
       "      <td>0.2</td>\n",
       "      <td>0.0</td>\n",
       "    </tr>\n",
       "    <tr>\n",
       "      <th>2</th>\n",
       "      <td>4.7</td>\n",
       "      <td>3.2</td>\n",
       "      <td>1.3</td>\n",
       "      <td>0.2</td>\n",
       "      <td>0.0</td>\n",
       "    </tr>\n",
       "    <tr>\n",
       "      <th>3</th>\n",
       "      <td>4.6</td>\n",
       "      <td>3.1</td>\n",
       "      <td>1.5</td>\n",
       "      <td>0.2</td>\n",
       "      <td>0.0</td>\n",
       "    </tr>\n",
       "    <tr>\n",
       "      <th>4</th>\n",
       "      <td>5.0</td>\n",
       "      <td>3.6</td>\n",
       "      <td>1.4</td>\n",
       "      <td>0.2</td>\n",
       "      <td>0.0</td>\n",
       "    </tr>\n",
       "    <tr>\n",
       "      <th>...</th>\n",
       "      <td>...</td>\n",
       "      <td>...</td>\n",
       "      <td>...</td>\n",
       "      <td>...</td>\n",
       "      <td>...</td>\n",
       "    </tr>\n",
       "    <tr>\n",
       "      <th>145</th>\n",
       "      <td>6.7</td>\n",
       "      <td>3.0</td>\n",
       "      <td>5.2</td>\n",
       "      <td>2.3</td>\n",
       "      <td>2.0</td>\n",
       "    </tr>\n",
       "    <tr>\n",
       "      <th>146</th>\n",
       "      <td>6.3</td>\n",
       "      <td>2.5</td>\n",
       "      <td>5.0</td>\n",
       "      <td>1.9</td>\n",
       "      <td>2.0</td>\n",
       "    </tr>\n",
       "    <tr>\n",
       "      <th>147</th>\n",
       "      <td>6.5</td>\n",
       "      <td>3.0</td>\n",
       "      <td>5.2</td>\n",
       "      <td>2.0</td>\n",
       "      <td>2.0</td>\n",
       "    </tr>\n",
       "    <tr>\n",
       "      <th>148</th>\n",
       "      <td>6.2</td>\n",
       "      <td>3.4</td>\n",
       "      <td>5.4</td>\n",
       "      <td>2.3</td>\n",
       "      <td>2.0</td>\n",
       "    </tr>\n",
       "    <tr>\n",
       "      <th>149</th>\n",
       "      <td>5.9</td>\n",
       "      <td>3.0</td>\n",
       "      <td>5.1</td>\n",
       "      <td>1.8</td>\n",
       "      <td>2.0</td>\n",
       "    </tr>\n",
       "  </tbody>\n",
       "</table>\n",
       "<p>150 rows × 5 columns</p>\n",
       "</div>"
      ],
      "text/plain": [
       "     sepal length (cm)  sepal width (cm)  petal length (cm)  petal width (cm)  \\\n",
       "0                  5.1               3.5                1.4               0.2   \n",
       "1                  4.9               3.0                1.4               0.2   \n",
       "2                  4.7               3.2                1.3               0.2   \n",
       "3                  4.6               3.1                1.5               0.2   \n",
       "4                  5.0               3.6                1.4               0.2   \n",
       "..                 ...               ...                ...               ...   \n",
       "145                6.7               3.0                5.2               2.3   \n",
       "146                6.3               2.5                5.0               1.9   \n",
       "147                6.5               3.0                5.2               2.0   \n",
       "148                6.2               3.4                5.4               2.3   \n",
       "149                5.9               3.0                5.1               1.8   \n",
       "\n",
       "    class  \n",
       "0     0.0  \n",
       "1     0.0  \n",
       "2     0.0  \n",
       "3     0.0  \n",
       "4     0.0  \n",
       "..    ...  \n",
       "145   2.0  \n",
       "146   2.0  \n",
       "147   2.0  \n",
       "148   2.0  \n",
       "149   2.0  \n",
       "\n",
       "[150 rows x 5 columns]"
      ]
     },
     "execution_count": 3,
     "metadata": {},
     "output_type": "execute_result"
    }
   ],
   "source": [
    "data = load_data()\n",
    "data"
   ]
  },
  {
   "cell_type": "markdown",
   "id": "third-coaching",
   "metadata": {},
   "source": [
    "# 2 - Descriptive Statistics"
   ]
  },
  {
   "cell_type": "code",
   "execution_count": 4,
   "id": "spectacular-metallic",
   "metadata": {},
   "outputs": [],
   "source": [
    "numerical = [c for c in data.columns if data[c].dtype == 'float64']"
   ]
  },
  {
   "cell_type": "markdown",
   "id": "extreme-november",
   "metadata": {},
   "source": [
    "## 2.1 - Mean / Median\n",
    "* 각 (연속형)변수의 평균과 중앙값을 알아본다"
   ]
  },
  {
   "cell_type": "code",
   "execution_count": 5,
   "id": "proud-strap",
   "metadata": {},
   "outputs": [
    {
     "name": "stdout",
     "output_type": "stream",
     "text": [
      "# 변수 : sepal length (cm) \t 평균 : 5.843333333333334 \t 중앙값 : 5.8\n",
      "# 변수 : sepal width (cm) \t 평균 : 3.0573333333333337 \t 중앙값 : 3.0\n",
      "# 변수 : petal length (cm) \t 평균 : 3.7580000000000005 \t 중앙값 : 4.35\n",
      "# 변수 : petal width (cm) \t 평균 : 1.1993333333333336 \t 중앙값 : 1.3\n"
     ]
    }
   ],
   "source": [
    "for c in numerical:\n",
    "    mean, median = np.mean(data[c]), np.median(data[c])\n",
    "    print('# 변수 : {} \\t 평균 : {} \\t 중앙값 : {}'.format(c, mean, median))"
   ]
  },
  {
   "cell_type": "markdown",
   "id": "specified-helen",
   "metadata": {},
   "source": [
    "## 2.2 - Variance / Standard Deviation\n",
    "* 각 (연속형)변수의 분산과 표준편차를 알아본다"
   ]
  },
  {
   "cell_type": "code",
   "execution_count": 6,
   "id": "incorrect-scratch",
   "metadata": {},
   "outputs": [
    {
     "name": "stdout",
     "output_type": "stream",
     "text": [
      "# 변수 : sepal length (cm) \t 분산 : 0.6811222222222223 \t 표준편차 : 0.8253012917851409\n",
      "# 변수 : sepal width (cm) \t 분산 : 0.1887128888888889 \t 표준편차 : 0.4344109677354946\n",
      "# 변수 : petal length (cm) \t 분산 : 3.0955026666666665 \t 표준편차 : 1.759404065775303\n",
      "# 변수 : petal width (cm) \t 분산 : 0.5771328888888888 \t 표준편차 : 0.7596926279021594\n"
     ]
    }
   ],
   "source": [
    "for c in numerical:\n",
    "    var, std = np.var(data[c]), np.std(data[c])\n",
    "    print('# 변수 : {} \\t 분산 : {} \\t 표준편차 : {}'.format(c, var, std))"
   ]
  },
  {
   "cell_type": "markdown",
   "id": "saving-provider",
   "metadata": {},
   "source": [
    "## 2.3 - Interquartile Range\n",
    "* 각 (연속형)변수의 사분위 범위를 알아본다\n",
    "* 사분위 범위 중 `Q1`은 하위 25%, `Q3`는 하위 75%에 위치하는 값을 나타내며, `IQR`은 Q3에서 Q1을 뺀 값으로 정의한다"
   ]
  },
  {
   "cell_type": "code",
   "execution_count": 7,
   "id": "oriental-floating",
   "metadata": {},
   "outputs": [
    {
     "name": "stdout",
     "output_type": "stream",
     "text": [
      "# 변수 : sepal length (cm) \t Q1 : 5.1 \t Q2 : 6.4 \t IQR : 1.3000000000000007\n",
      "# 변수 : sepal width (cm) \t Q1 : 2.8 \t Q2 : 3.3 \t IQR : 0.5\n",
      "# 변수 : petal length (cm) \t Q1 : 1.6 \t Q2 : 5.1 \t IQR : 3.4999999999999996\n",
      "# 변수 : petal width (cm) \t Q1 : 0.3 \t Q2 : 1.8 \t IQR : 1.5\n"
     ]
    }
   ],
   "source": [
    "for c in numerical:\n",
    "    Q1, Q3 = np.percentile(data[c], 25), np.percentile(data[c], 75)\n",
    "    IQR = Q3 - Q1\n",
    "    print('# 변수 : {} \\t Q1 : {} \\t Q2 : {} \\t IQR : {}'.format(c, Q1, Q3, IQR))"
   ]
  },
  {
   "cell_type": "markdown",
   "id": "collaborative-update",
   "metadata": {},
   "source": [
    "## 2.4 - Summary"
   ]
  },
  {
   "cell_type": "code",
   "execution_count": 8,
   "id": "civic-fleet",
   "metadata": {},
   "outputs": [
    {
     "data": {
      "text/html": [
       "<div>\n",
       "<style scoped>\n",
       "    .dataframe tbody tr th:only-of-type {\n",
       "        vertical-align: middle;\n",
       "    }\n",
       "\n",
       "    .dataframe tbody tr th {\n",
       "        vertical-align: top;\n",
       "    }\n",
       "\n",
       "    .dataframe thead th {\n",
       "        text-align: right;\n",
       "    }\n",
       "</style>\n",
       "<table border=\"1\" class=\"dataframe\">\n",
       "  <thead>\n",
       "    <tr style=\"text-align: right;\">\n",
       "      <th></th>\n",
       "      <th>sepal length (cm)</th>\n",
       "      <th>sepal width (cm)</th>\n",
       "      <th>petal length (cm)</th>\n",
       "      <th>petal width (cm)</th>\n",
       "    </tr>\n",
       "  </thead>\n",
       "  <tbody>\n",
       "    <tr>\n",
       "      <th>count</th>\n",
       "      <td>150.000000</td>\n",
       "      <td>150.000000</td>\n",
       "      <td>150.000000</td>\n",
       "      <td>150.000000</td>\n",
       "    </tr>\n",
       "    <tr>\n",
       "      <th>mean</th>\n",
       "      <td>5.843333</td>\n",
       "      <td>3.057333</td>\n",
       "      <td>3.758000</td>\n",
       "      <td>1.199333</td>\n",
       "    </tr>\n",
       "    <tr>\n",
       "      <th>std</th>\n",
       "      <td>0.828066</td>\n",
       "      <td>0.435866</td>\n",
       "      <td>1.765298</td>\n",
       "      <td>0.762238</td>\n",
       "    </tr>\n",
       "    <tr>\n",
       "      <th>min</th>\n",
       "      <td>4.300000</td>\n",
       "      <td>2.000000</td>\n",
       "      <td>1.000000</td>\n",
       "      <td>0.100000</td>\n",
       "    </tr>\n",
       "    <tr>\n",
       "      <th>25%</th>\n",
       "      <td>5.100000</td>\n",
       "      <td>2.800000</td>\n",
       "      <td>1.600000</td>\n",
       "      <td>0.300000</td>\n",
       "    </tr>\n",
       "    <tr>\n",
       "      <th>50%</th>\n",
       "      <td>5.800000</td>\n",
       "      <td>3.000000</td>\n",
       "      <td>4.350000</td>\n",
       "      <td>1.300000</td>\n",
       "    </tr>\n",
       "    <tr>\n",
       "      <th>75%</th>\n",
       "      <td>6.400000</td>\n",
       "      <td>3.300000</td>\n",
       "      <td>5.100000</td>\n",
       "      <td>1.800000</td>\n",
       "    </tr>\n",
       "    <tr>\n",
       "      <th>max</th>\n",
       "      <td>7.900000</td>\n",
       "      <td>4.400000</td>\n",
       "      <td>6.900000</td>\n",
       "      <td>2.500000</td>\n",
       "    </tr>\n",
       "  </tbody>\n",
       "</table>\n",
       "</div>"
      ],
      "text/plain": [
       "       sepal length (cm)  sepal width (cm)  petal length (cm)  \\\n",
       "count         150.000000        150.000000         150.000000   \n",
       "mean            5.843333          3.057333           3.758000   \n",
       "std             0.828066          0.435866           1.765298   \n",
       "min             4.300000          2.000000           1.000000   \n",
       "25%             5.100000          2.800000           1.600000   \n",
       "50%             5.800000          3.000000           4.350000   \n",
       "75%             6.400000          3.300000           5.100000   \n",
       "max             7.900000          4.400000           6.900000   \n",
       "\n",
       "       petal width (cm)  \n",
       "count        150.000000  \n",
       "mean           1.199333  \n",
       "std            0.762238  \n",
       "min            0.100000  \n",
       "25%            0.300000  \n",
       "50%            1.300000  \n",
       "75%            1.800000  \n",
       "max            2.500000  "
      ]
     },
     "execution_count": 8,
     "metadata": {},
     "output_type": "execute_result"
    }
   ],
   "source": [
    "data.describe()"
   ]
  },
  {
   "cell_type": "markdown",
   "id": "drawn-camcorder",
   "metadata": {},
   "source": [
    "# 3 - Visualization"
   ]
  },
  {
   "cell_type": "code",
   "execution_count": 9,
   "id": "marked-planner",
   "metadata": {},
   "outputs": [
    {
     "data": {
      "image/png": "[encoded data removed]",
      "text/plain": [
       "<Figure size 720x216 with 1 Axes>"
      ]
     },
     "metadata": {
      "needs_background": "light"
     },
     "output_type": "display_data"
    },
    {
     "data": {
      "image/png": "[encoded data removed]",
      "text/plain": [
       "<Figure size 720x216 with 1 Axes>"
      ]
     },
     "metadata": {
      "needs_background": "light"
     },
     "output_type": "display_data"
    },
    {
     "data": {
      "image/png": "[encoded data removed]",
      "text/plain": [
       "<Figure size 720x216 with 1 Axes>"
      ]
     },
     "metadata": {
      "needs_background": "light"
     },
     "output_type": "display_data"
    },
    {
     "data": {
      "image/png": "[encoded data removed]",
      "text/plain": [
       "<Figure size 720x216 with 1 Axes>"
      ]
     },
     "metadata": {
      "needs_background": "light"
     },
     "output_type": "display_data"
    }
   ],
   "source": [
    "for c in numerical:\n",
    "    fig = plt.figure(figsize=(10, 3))\n",
    "    ax = fig.add_subplot(111)\n",
    "    freq, _, _ = ax.hist(data[c], bins=7)\n",
    "    ax.set_xlabel('length')\n",
    "    ax.set_ylabel('number')\n",
    "    plt.show()"
   ]
  },
  {
   "cell_type": "code",
   "execution_count": null,
   "id": "sudden-journal",
   "metadata": {},
   "outputs": [],
   "source": []
  }
 ],
 "metadata": {
  "kernelspec": {
   "display_name": "Python 3",
   "language": "python",
   "name": "python3"
  },
  "language_info": {
   "codemirror_mode": {
    "name": "ipython",
    "version": 3
   },
   "file_extension": ".py",
   "mimetype": "text/x-python",
   "name": "python",
   "nbconvert_exporter": "python",
   "pygments_lexer": "ipython3",
   "version": "3.9.2"
  }
 },
 "nbformat": 4,
 "nbformat_minor": 5
}
