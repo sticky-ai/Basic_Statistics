{
 "cells": [
  {
   "cell_type": "code",
   "execution_count": 13,
   "id": "certified-ukraine",
   "metadata": {},
   "outputs": [],
   "source": [
    "import numpy as np\n",
    "import pandas as pd"
   ]
  },
  {
   "cell_type": "markdown",
   "id": "parallel-attack",
   "metadata": {},
   "source": [
    "* `numpy`의 `random.randint` 함수를 사용하여 30 ~ 80 사이의 몸무게를 가지는 500명의 학생 데이터 생성 "
   ]
  },
  {
   "cell_type": "code",
   "execution_count": 46,
   "id": "disturbed-westminster",
   "metadata": {},
   "outputs": [
    {
     "name": "stdout",
     "output_type": "stream",
     "text": [
      "학생 수 : 500, 모평균 : 54.12\n"
     ]
    }
   ],
   "source": [
    "np.random.seed(0)\n",
    "data = np.random.randint(30, 80, size=500)\n",
    "print('학생 수 : {}, 모평균 : {:.2f}'.format(len(data), np.mean(data)))"
   ]
  },
  {
   "cell_type": "markdown",
   "id": "heard-commitment",
   "metadata": {},
   "source": [
    "# 4 - 추측통계(Inferential Statistics)\n",
    "* **추측통계**란, 일부 데이터로부터 전체의 통계적 성질을 추측하는 방식을 의미하며, 이와 유사한 개념으로 **기술통계**가 있음\n",
    "* 추측통계에서는 관측 대상 전체의 통계적 성질을 대상의 일부분만 사용하여 추측\n",
    "* 추측하고 싶은 관측 대상 전체를 **모집단(Population)**이라 하고, 추측에 사용하는 관측 대상의 일부분을 **표본(Sample)**이라 정의\n",
    "* 모집단에서 표본을 추출하는 일을 **표본추출(Sampling)**이라 하고, 골라낸 표본의 수를 **표본 크기** 혹은 **샘플 사이즈**라 정의\n",
    "* 표본을 바탕으로 계산된 평균, 분산, 상관계수 등을 **표본통계량**이라 하며, 모집단의 평균, 분산, 상관계수 등을 **모수**라 정의\n",
    "* 추출된 표본으로부터 모평균을 추측할 때, 표본평균은 모평균의 **추정량(Estiamtor)**라 하며, 실제 표본의 데이터를 이용하여 계산한 결과를 **추정값(Estimate)**라 정의"
   ]
  },
  {
   "cell_type": "markdown",
   "id": "thirty-imperial",
   "metadata": {},
   "source": [
    "# 4.0 - 표본추출 방법\n",
    "* 전교생이 500명인 학교의 평균 몸무게를 구하기 위해서는 학생 500명의 몸무게 정보가 필요하나, 이는 많은 자원과 시간이 필요\n",
    "* 따라서, 여러 표본추출 방법을 활용하여 전교생의 몸무게 평균을 추정하고자 함"
   ]
  },
  {
   "cell_type": "markdown",
   "id": "driving-duplicate",
   "metadata": {},
   "source": [
    "## 4.0.1 - 무작위추출(Random Sampling)\n",
    "* **무작위추출**은 말 그대로 임의로 표본을 추출하는 방법\n",
    "* 무작위추출은 편향 없이 표본을 추출할 수 있다는 장점이 있지만, 그 반대로 편향이 있는 표본을 추출할 수도 있음\n",
    "* 무작위로 50명의 학생 몸무게를 추출한 표본집단의 표본평균과 모평균을 비교"
   ]
  },
  {
   "cell_type": "code",
   "execution_count": 47,
   "id": "fifth-brighton",
   "metadata": {},
   "outputs": [
    {
     "name": "stdout",
     "output_type": "stream",
     "text": [
      "학생 수 : 10, 표본평균 : 49.90\n",
      "학생 수 : 20, 표본평균 : 54.85\n",
      "학생 수 : 30, 표본평균 : 53.20\n",
      "학생 수 : 40, 표본평균 : 51.45\n",
      "학생 수 : 50, 표본평균 : 55.60\n"
     ]
    }
   ],
   "source": [
    "for n_sample in range(10, 51, 10):\n",
    "    random_sample = np.random.choice(data, n_sample)\n",
    "    print('학생 수 : {}, 표본평균 : {:.2f}'.format(len(random_sample), np.mean(random_sample)))"
   ]
  },
  {
   "cell_type": "markdown",
   "id": "responsible-dinner",
   "metadata": {},
   "source": [
    "* 모평균으로부터 추출한 표본의 수가 커질수록 표본평균이 모평균에 근사"
   ]
  },
  {
   "cell_type": "code",
   "execution_count": 49,
   "id": "fatty-encoding",
   "metadata": {},
   "outputs": [
    {
     "name": "stdout",
     "output_type": "stream",
     "text": [
      "학생 수 : 50, 표본평균 : 54.70\n",
      "학생 수 : 50, 표본평균 : 55.68\n",
      "학생 수 : 50, 표본평균 : 53.86\n",
      "학생 수 : 50, 표본평균 : 53.54\n",
      "학생 수 : 50, 표본평균 : 50.40\n"
     ]
    }
   ],
   "source": [
    "for _ in range(5):\n",
    "    random_sample = np.random.choice(data, 50)\n",
    "    print('학생 수 : {}, 표본평균 : {:.2f}'.format(len(random_sample), np.mean(random_sample)))"
   ]
  },
  {
   "cell_type": "markdown",
   "id": "involved-occasions",
   "metadata": {},
   "source": [
    "* 50명의 학생에 대해 임의추출된 표본평균은 대체로 모평균과 유사하게 분포"
   ]
  }
 ],
 "metadata": {
  "kernelspec": {
   "display_name": "Python 3",
   "language": "python",
   "name": "python3"
  },
  "language_info": {
   "codemirror_mode": {
    "name": "ipython",
    "version": 3
   },
   "file_extension": ".py",
   "mimetype": "text/x-python",
   "name": "python",
   "nbconvert_exporter": "python",
   "pygments_lexer": "ipython3",
   "version": "3.9.2"
  }
 },
 "nbformat": 4,
 "nbformat_minor": 5
}
